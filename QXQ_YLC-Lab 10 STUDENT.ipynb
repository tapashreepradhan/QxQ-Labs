{
 "cells": [
  {
   "cell_type": "markdown",
   "id": "PwzxHjX_YYNn",
   "metadata": {
    "id": "PwzxHjX_YYNn"
   },
   "source": [
    "# Lab: Week #10 | Using Quantum Hardware\n",
    "---\n",
    "\n",
    "### **Description**:  \n",
    "In this week's lab, we will see how to use real quantum hardware from IBM to run our circuits.\n",
    "\n",
    "<br>\n",
    "\n",
    "### **Cheat Sheets**:  \n",
    "\n",
    "[Updated Qiskit Cheat Sheet](https://docs.google.com/document/d/1GArKBUksi4pMgcEBc4OpvWp2KREPpnQvq0AgyijJnkI/edit?usp=share_link)\n",
    "\n",
    "[Loops and Conditionals Cheat Sheet](https://docs.google.com/document/d/1WKvv22SC7pA0TCqCJnxgZOf2tHjvTotaHYEtOx2FNkI/edit?usp=share_link)\n",
    "\n",
    "\n",
    "---"
   ]
  },
  {
   "cell_type": "markdown",
   "id": "k0Lsovb5VOKP",
   "metadata": {
    "id": "k0Lsovb5VOKP",
    "tags": []
   },
   "source": [
    "## **Part 0: Importing from Qiskit**\n",
    "---\n",
    "\n",
    "Run the cell directly below before doing anything else. This will import all of the functions that we will use today."
   ]
  },
  {
   "cell_type": "code",
   "execution_count": 1,
   "id": "2fdb668d-f835-4c9e-96fb-ba4b68863892",
   "metadata": {
    "id": "2fdb668d-f835-4c9e-96fb-ba4b68863892"
   },
   "outputs": [],
   "source": [
    "import warnings\n",
    "warnings.filterwarnings('ignore')\n",
    "\n",
    "import numpy as np\n",
    "\n",
    "# Importing standard Qiskit libraries\n",
    "from qiskit import QuantumCircuit, transpile, Aer, IBMQ, execute\n",
    "from qiskit.tools.jupyter import *\n",
    "from qiskit.visualization import *\n",
    "from ibm_quantum_widgets import *\n",
    "from qiskit.providers.aer import QasmSimulator\n",
    "from qiskit.tools.monitor import job_monitor\n",
    "\n",
    "# Loading your IBM Quantum account(s)\n",
    "provider = IBMQ.load_account()"
   ]
  },
  {
   "cell_type": "markdown",
   "id": "sVwVviQORgWa",
   "metadata": {
    "id": "sVwVviQORgWa",
    "tags": []
   },
   "source": [
    "## **Part 1: Backends**\n",
    "---\n",
    "\n",
    "In this section, we will explore the concept of \"backends\" in Qiskit and what we can do with them."
   ]
  },
  {
   "cell_type": "markdown",
   "id": "ygbX_FcFUVuL",
   "metadata": {
    "id": "ygbX_FcFUVuL"
   },
   "source": [
    "#### **Exercise #1** \n",
    "\n",
    "**Together**, let's see what information we can get about a specific backend from IQX: ibm_oslo."
   ]
  },
  {
   "cell_type": "code",
   "execution_count": 2,
   "id": "09fab181-db1f-46b2-8a6b-0a5d9459fc7d",
   "metadata": {
    "id": "09fab181-db1f-46b2-8a6b-0a5d9459fc7d"
   },
   "outputs": [
    {
     "data": {
      "application/vnd.jupyter.widget-view+json": {
       "model_id": "2088b5738e684b00b048dc95044f252c",
       "version_major": 2,
       "version_minor": 0
      },
      "text/plain": [
       "VBox(children=(HTML(value=\"<h1 style='color:#ffffff;background-color:#000000;padding-top: 1%;padding-bottom: 1…"
      ]
     },
     "metadata": {},
     "output_type": "display_data"
    },
    {
     "data": {
      "text/plain": [
       "<IBMQBackend('ibm_oslo') from IBMQ(hub='ibm-q', group='open', project='main')>"
      ]
     },
     "execution_count": 2,
     "metadata": {},
     "output_type": "execute_result"
    }
   ],
   "source": [
    "provider.get_backend('ibm_oslo')\n",
    "# tells the quantum architecture"
   ]
  },
  {
   "cell_type": "markdown",
   "id": "pwpt38KFbAwn",
   "metadata": {
    "id": "pwpt38KFbAwn"
   },
   "source": [
    "#### **Exercise #2** \n",
    "\n",
    "**Together**, let's look at a list of all available backends and see how long the lines are to use them."
   ]
  },
  {
   "cell_type": "code",
   "execution_count": 3,
   "id": "5b921c1e-5494-4dfa-bad5-ec1834a8eb9d",
   "metadata": {
    "id": "5b921c1e-5494-4dfa-bad5-ec1834a8eb9d"
   },
   "outputs": [
    {
     "name": "stdout",
     "output_type": "stream",
     "text": [
      "Backend 0: ibmq_qasm_simulator\n",
      "Pending Jobs: 0\n",
      "\n",
      "Backend 1: ibmq_lima\n",
      "Pending Jobs: 297\n",
      "\n",
      "Backend 2: ibmq_belem\n",
      "Pending Jobs: 8\n",
      "\n",
      "Backend 3: ibmq_quito\n",
      "Pending Jobs: 32\n",
      "\n",
      "Backend 4: simulator_statevector\n",
      "Pending Jobs: 0\n",
      "\n",
      "Backend 5: simulator_mps\n",
      "Pending Jobs: 0\n",
      "\n",
      "Backend 6: simulator_extended_stabilizer\n",
      "Pending Jobs: 0\n",
      "\n",
      "Backend 7: simulator_stabilizer\n",
      "Pending Jobs: 0\n",
      "\n",
      "Backend 8: ibmq_manila\n",
      "Pending Jobs: 6\n",
      "\n",
      "Backend 9: ibm_nairobi\n",
      "Pending Jobs: 549\n",
      "\n",
      "Backend 10: ibm_oslo\n",
      "Pending Jobs: 62\n",
      "\n"
     ]
    }
   ],
   "source": [
    "backends = provider.backends()\n",
    "\n",
    "for i in range(len(backends)):\n",
    "    print(\"Backend \" + str(i) + \": \" + str(backends[i]))\n",
    "    print(\"Pending Jobs: \" + str(backends[i].status().pending_jobs))\n",
    "    print()"
   ]
  },
  {
   "cell_type": "markdown",
   "id": "bc56384b-ffe8-42f6-981b-7e44bf84eaa9",
   "metadata": {
    "id": "bc56384b-ffe8-42f6-981b-7e44bf84eaa9"
   },
   "source": [
    "## **Part 2: Running on Quantum Hardware**\n",
    "---\n",
    "\n",
    "In this section, we will run our circuits on real quantum hardware!!"
   ]
  },
  {
   "cell_type": "markdown",
   "id": "WWg-rR2_bH7G",
   "metadata": {
    "id": "WWg-rR2_bH7G"
   },
   "source": [
    "#### **Exercise #1** \n",
    "\n",
    "Let's jump right in! Specifically:\n",
    "1. Run the first cell to create and draw the circuit we're going to run today: **creating entanglement**.\n",
    "\n",
    "2. Run the second cell to simulate this so we have something to compare our measured results to.\n",
    "\n",
    "3. Run the third cell to send the job off to execute and see what it's status is initially."
   ]
  },
  {
   "cell_type": "code",
   "execution_count": 22,
   "id": "2ae77c61-33e4-446f-8760-6a28ff9548b1",
   "metadata": {
    "id": "2ae77c61-33e4-446f-8760-6a28ff9548b1"
   },
   "outputs": [
    {
     "data": {
      "image/png": "[encoded data removed]",
      "text/plain": [
       "<Figure size 327.252x204.68 with 1 Axes>"
      ]
     },
     "execution_count": 22,
     "metadata": {},
     "output_type": "execute_result"
    }
   ],
   "source": [
    "qc = QuantumCircuit(2, 2)\n",
    "\n",
    "qc.h(0)\n",
    "qc.cx(0, 1)\n",
    "\n",
    "qc.measure([0, 1], [0, 1])\n",
    "\n",
    "qc.draw()"
   ]
  },
  {
   "cell_type": "code",
   "execution_count": 7,
   "id": "42752374-4934-4807-9324-34002f1e68f6",
   "metadata": {
    "id": "42752374-4934-4807-9324-34002f1e68f6"
   },
   "outputs": [
    {
     "data": {
      "image/png": "[encoded data removed]",
      "text/plain": [
       "<Figure size 504x360 with 1 Axes>"
      ]
     },
     "execution_count": 7,
     "metadata": {},
     "output_type": "execute_result"
    }
   ],
   "source": [
    "backend = Aer.get_backend('qasm_simulator')\n",
    "job = execute(qc, backend = backend, shots = 1024)\n",
    "\n",
    "results = job.result()\n",
    "plot_histogram(results.get_counts(qc))"
   ]
  },
  {
   "cell_type": "code",
   "execution_count": 23,
   "id": "d19e37a2-8b98-4477-bcf9-73b4b1596498",
   "metadata": {
    "id": "d19e37a2-8b98-4477-bcf9-73b4b1596498"
   },
   "outputs": [
    {
     "data": {
      "text/plain": [
       "<JobStatus.VALIDATING: 'job is being validated'>"
      ]
     },
     "execution_count": 23,
     "metadata": {},
     "output_type": "execute_result"
    }
   ],
   "source": [
    "backend = backends[2]\n",
    "job = execute(qc, backend = backend, shots = 1024)\n",
    "\n",
    "job.status()"
   ]
  },
  {
   "cell_type": "markdown",
   "id": "tTmdrlsDbpZd",
   "metadata": {
    "id": "tTmdrlsDbpZd"
   },
   "source": [
    "---\n",
    "\n",
    "**Back to the slides**\n",
    "\n",
    "\n",
    "---"
   ]
  },
  {
   "cell_type": "markdown",
   "id": "67Awew8WbrfX",
   "metadata": {
    "id": "67Awew8WbrfX"
   },
   "source": [
    "#### **Exercise #2** \n",
    "\n",
    "While we wait for this job to finish, let's see what this was transpiled into for this specific backend, with and without `idle_wires = False`."
   ]
  },
  {
   "cell_type": "code",
   "execution_count": 11,
   "id": "2fb9bd95-088b-4421-9c66-10343c9388d1",
   "metadata": {
    "id": "2fb9bd95-088b-4421-9c66-10343c9388d1"
   },
   "outputs": [
    {
     "data": {
      "image/png": "[encoded data removed]",
      "text/plain": [
       "<Figure size 540.531x385.28 with 1 Axes>"
      ]
     },
     "execution_count": 11,
     "metadata": {},
     "output_type": "execute_result"
    }
   ],
   "source": [
    "tc = transpile(qc, backend = backend)\n",
    "tc.draw()"
   ]
  },
  {
   "cell_type": "code",
   "execution_count": 19,
   "id": "ff855214-835a-4720-b4f2-96829b045123",
   "metadata": {
    "id": "ff855214-835a-4720-b4f2-96829b045123"
   },
   "outputs": [
    {
     "data": {
      "image/png": "[encoded data removed]",
      "text/plain": [
       "<Figure size 365.329x325.08 with 1 Axes>"
      ]
     },
     "execution_count": 19,
     "metadata": {},
     "output_type": "execute_result"
    }
   ],
   "source": [
    "# Create and draw transpiled circuit without idle wires\n",
    "tc.draw(idle_wires = False)"
   ]
  },
  {
   "cell_type": "markdown",
   "id": "ar5mgt55cMk6",
   "metadata": {
    "id": "ar5mgt55cMk6"
   },
   "source": [
    "#### **Exercise #3** \n",
    "\n",
    "Write code to create a 4-qubit/4-classical bit quantum circuit with the gates listed below and a measurement of all qubits. Then create and draw the transpiled version of this circuit for the backend we're currently using.\n",
    "\n",
    "**Gates**:\n",
    "\n",
    "H on qubit 0\n",
    "\n",
    "X on qubit 1\n",
    "\n",
    "Z on qubit 2"
   ]
  },
  {
   "cell_type": "code",
   "execution_count": 15,
   "id": "5bca6699-78f8-486c-813b-1d5051c1ba7e",
   "metadata": {
    "id": "5bca6699-78f8-486c-813b-1d5051c1ba7e"
   },
   "outputs": [
    {
     "data": {
      "image/png": "[encoded data removed]",
      "text/plain": [
       "<Figure size 419.84x385.28 with 1 Axes>"
      ]
     },
     "execution_count": 15,
     "metadata": {},
     "output_type": "execute_result"
    }
   ],
   "source": [
    "# Create the circuit here\n",
    "qc = QuantumCircuit(4,4)\n",
    "qc.h(0)\n",
    "qc.x(1)\n",
    "qc.z(2)\n",
    "qc.measure([0,1,2,3],[0,1,2,3])\n",
    "\n",
    "tc = transpile(qc, backend = backend)\n",
    "tc.draw()"
   ]
  },
  {
   "cell_type": "markdown",
   "id": "Kwqkpgsjc_Tx",
   "metadata": {
    "id": "Kwqkpgsjc_Tx"
   },
   "source": [
    "#### **Exercise #4** \n",
    "\n",
    "Complete the code below to create and draw the transpiled version of this circuit for the backend we're currently using."
   ]
  },
  {
   "cell_type": "code",
   "execution_count": 17,
   "id": "3f61767c-4dff-4961-bb27-effda1121fda",
   "metadata": {
    "id": "3f61767c-4dff-4961-bb27-effda1121fda"
   },
   "outputs": [
    {
     "name": "stdout",
     "output_type": "stream",
     "text": [
      "Traceback \u001b[1;36m(most recent call last)\u001b[0m:\n",
      "  Input \u001b[0;32mIn [17]\u001b[0m in \u001b[0;35m<cell line: 9>\u001b[0m\n",
      "    tc = transpile(qc3, backend = backend)\n",
      "  File \u001b[0;32m/opt/conda/lib/python3.8/site-packages/qiskit/compiler/transpiler.py:360\u001b[0m in \u001b[0;35mtranspile\u001b[0m\n",
      "    _check_circuits_coupling_map(circuits, cmap_conf, backend)\n",
      "\u001b[1;36m  File \u001b[1;32m/opt/conda/lib/python3.8/site-packages/qiskit/compiler/transpiler.py:422\u001b[1;36m in \u001b[1;35m_check_circuits_coupling_map\u001b[1;36m\u001b[0m\n",
      "\u001b[1;33m    raise TranspilerError(\u001b[0m\n",
      "\u001b[1;31mTranspilerError\u001b[0m\u001b[1;31m:\u001b[0m 'Number of qubits (6) in circuit-171 is greater than maximum (5) in the coupling_map'\n",
      "\n",
      "Use %tb to get the full traceback.\n"
     ]
    },
    {
     "data": {
      "text/html": [
       "\n",
       "<style>\n",
       ".button {\n",
       "  border: none;\n",
       "  color: white;\n",
       "  padding: 4px 8px;\n",
       "  text-align: center;\n",
       "  text-decoration: none;\n",
       "  display: inline-block;\n",
       "  font-size: 12px;\n",
       "  margin: 4px 2px;\n",
       "  transition-duration: 0.2s;\n",
       "  cursor: pointer;\n",
       "}\n",
       ".iqx-button {\n",
       "  background-color: #0f62fe; \n",
       "  color: white; \n",
       "}\n",
       ".iqx-button:hover {\n",
       "  background-color: #0043ce;\n",
       "  color: white;\n",
       "}\n",
       "</style>\n",
       "<a href=\"https://stackoverflow.com/search?q=TranspilerError: Number of qubits (6) in circuit-171 is greater than maximum (5) in the coupling_map\" target='_blank'><button class='button iqx-button'>Search for solution online</button></a>\n"
      ],
      "text/plain": [
       "<IPython.core.display.HTML object>"
      ]
     },
     "metadata": {},
     "output_type": "display_data"
    }
   ],
   "source": [
    "qc3 = QuantumCircuit(6)\n",
    "\n",
    "for i in range(5):\n",
    "    qc3.cx(i, i + 1)\n",
    "    \n",
    "qc3.measure_all()\n",
    "\n",
    "# Transpile this circuit (without idle wires) for the current backend\n",
    "tc = transpile(qc3, backend = backend)\n",
    "tc.draw()"
   ]
  },
  {
   "cell_type": "markdown",
   "id": "JHvcvUM5eMIS",
   "metadata": {
    "id": "JHvcvUM5eMIS"
   },
   "source": [
    "---\n",
    "\n",
    "**Before continuing, describe what happened in the chat and let's all discuss.**\n",
    "\n",
    "---"
   ]
  },
  {
   "cell_type": "markdown",
   "id": "KDiAHDm1dXCd",
   "metadata": {
    "id": "KDiAHDm1dXCd"
   },
   "source": [
    "#### **Exercise #5** \n",
    "\n",
    "The code above runs into an error! Let's fix this by using a different backend below. Specifically, use the last backend in our list to create and draw a transpiled circuit."
   ]
  },
  {
   "cell_type": "code",
   "execution_count": 18,
   "id": "5508a6fd-2e28-4420-af60-5f1e5203f4e1",
   "metadata": {
    "id": "5508a6fd-2e28-4420-af60-5f1e5203f4e1"
   },
   "outputs": [
    {
     "data": {
      "image/png": "[encoded data removed]",
      "text/plain": [
       "<Figure size 1027.53x445.48 with 1 Axes>"
      ]
     },
     "execution_count": 18,
     "metadata": {},
     "output_type": "execute_result"
    }
   ],
   "source": [
    "tc3 = transpile(qc3, backend = backends[-1])\n",
    "tc3.draw(idle_wires = False)"
   ]
  },
  {
   "cell_type": "markdown",
   "id": "sIbvCASFdtmk",
   "metadata": {
    "id": "sIbvCASFdtmk"
   },
   "source": [
    "#### **Exercise #6** \n",
    "\n",
    "Let's check back in with that job we sent off!"
   ]
  },
  {
   "cell_type": "code",
   "execution_count": 25,
   "id": "ad37ef01-cbfc-45b2-b5d0-6b6c65478daa",
   "metadata": {
    "id": "ad37ef01-cbfc-45b2-b5d0-6b6c65478daa"
   },
   "outputs": [
    {
     "data": {
      "text/plain": [
       "<JobStatus.QUEUED: 'job is queued'>"
      ]
     },
     "execution_count": 25,
     "metadata": {},
     "output_type": "execute_result"
    }
   ],
   "source": [
    "job.status()"
   ]
  },
  {
   "cell_type": "markdown",
   "id": "n79ibspEdywi",
   "metadata": {
    "id": "n79ibspEdywi"
   },
   "source": [
    "**If the job is DONE, then we can look at the results by running the cell below.**"
   ]
  },
  {
   "cell_type": "code",
   "execution_count": 21,
   "id": "2736038e-5bbe-432e-99ec-d94d88f8fdaf",
   "metadata": {
    "id": "2736038e-5bbe-432e-99ec-d94d88f8fdaf"
   },
   "outputs": [
    {
     "name": "stdout",
     "output_type": "stream",
     "text": [
      "Traceback \u001b[1;36m(most recent call last)\u001b[0m:\n",
      "  Input \u001b[0;32mIn [21]\u001b[0m in \u001b[0;35m<cell line: 2>\u001b[0m\n",
      "    plot_histogram(results.get_counts(qc))\n",
      "  File \u001b[0;32m/opt/conda/lib/python3.8/site-packages/qiskit/result/result.py:269\u001b[0m in \u001b[0;35mget_counts\u001b[0m\n",
      "    exp = self._get_experiment(key)\n",
      "\u001b[1;36m  File \u001b[1;32m/opt/conda/lib/python3.8/site-packages/qiskit/result/result.py:380\u001b[1;36m in \u001b[1;35m_get_experiment\u001b[1;36m\u001b[0m\n",
      "\u001b[1;33m    raise QiskitError('Data for experiment \"%s\" could not be found.' % key)\u001b[0m\n",
      "\u001b[1;31mQiskitError\u001b[0m\u001b[1;31m:\u001b[0m 'Data for experiment \"circuit-160\" could not be found.'\n",
      "\n",
      "Use %tb to get the full traceback.\n"
     ]
    },
    {
     "data": {
      "text/html": [
       "\n",
       "<style>\n",
       ".button {\n",
       "  border: none;\n",
       "  color: white;\n",
       "  padding: 4px 8px;\n",
       "  text-align: center;\n",
       "  text-decoration: none;\n",
       "  display: inline-block;\n",
       "  font-size: 12px;\n",
       "  margin: 4px 2px;\n",
       "  transition-duration: 0.2s;\n",
       "  cursor: pointer;\n",
       "}\n",
       ".iqx-button {\n",
       "  background-color: #0f62fe; \n",
       "  color: white; \n",
       "}\n",
       ".iqx-button:hover {\n",
       "  background-color: #0043ce;\n",
       "  color: white;\n",
       "}\n",
       "</style>\n",
       "<a href=\"https://stackoverflow.com/search?q=QiskitError: Data for experiment \"circuit-160\" could not be found.\" target='_blank'><button class='button iqx-button'>Search for solution online</button></a>\n"
      ],
      "text/plain": [
       "<IPython.core.display.HTML object>"
      ]
     },
     "metadata": {},
     "output_type": "display_data"
    }
   ],
   "source": [
    "results = job.result()\n",
    "plot_histogram(results.get_counts(qc))"
   ]
  },
  {
   "cell_type": "markdown",
   "id": "hQJELyD6aeJ2",
   "metadata": {
    "id": "hQJELyD6aeJ2"
   },
   "source": [
    "---\n",
    "# End of Lab\n",
    "---\n",
    "© 2022 The Coding School, All rights reserved"
   ]
  }
 ],
 "metadata": {
  "colab": {
   "provenance": []
  },
  "kernelspec": {
   "display_name": "Python 3 (ipykernel)",
   "language": "python",
   "name": "python3"
  },
  "language_info": {
   "codemirror_mode": {
    "name": "ipython",
    "version": 3
   },
   "file_extension": ".py",
   "mimetype": "text/x-python",
   "name": "python",
   "nbconvert_exporter": "python",
   "pygments_lexer": "ipython3",
   "version": "3.8.13"
  },
  "widgets": {
   "application/vnd.jupyter.widget-state+json": {
    "state": {
     "013a73f9bfde4fc8bad6bb8d560951cc": {
      "model_module": "@jupyter-widgets/controls",
      "model_module_version": "1.5.0",
      "model_name": "DescriptionStyleModel",
      "state": {
       "description_width": ""
      }
     },
     "023eb70bc6764f09a655f24b33e6ee1b": {
      "model_module": "@jupyter-widgets/controls",
      "model_module_version": "1.5.0",
      "model_name": "ButtonModel",
      "state": {
       "icon": "close",
       "layout": "IPY_MODEL_0b341a80d59e40699d933c0675d4909c",
       "style": "IPY_MODEL_bdf52804fbf744d6a6c3baf7a790e083"
      }
     },
     "02aff9d12ec54b5e804c7b03bc26d88f": {
      "model_module": "@jupyter-widgets/controls",
      "model_module_version": "1.5.0",
      "model_name": "HTMLModel",
      "state": {
       "layout": "IPY_MODEL_f5597ad2fff049099eaf7ab3d03725ea",
       "style": "IPY_MODEL_d6cd172ae1a24438a237eb2fd0fbf29d",
       "value": "<font style='color:#34BC6E'>DONE</font>"
      }
     },
     "042cfe69a1064359ba8d9a4b9bcc85c8": {
      "model_module": "@jupyter-widgets/controls",
      "model_module_version": "1.5.0",
      "model_name": "HTMLModel",
      "state": {
       "layout": "IPY_MODEL_2cb77bec181c4de4a13231023b134033",
       "style": "IPY_MODEL_a72579da20824853bb2e78117f5a80b2",
       "value": "job has successfully run"
      }
     },
     "04386dbcd44e42ab84cc84ca9351df09": {
      "model_module": "@jupyter-widgets/controls",
      "model_module_version": "1.5.0",
      "model_name": "HTMLModel",
      "state": {
       "layout": "IPY_MODEL_0e4cced64e1f40c89d35b9f7665cd3fe",
       "style": "IPY_MODEL_7734cdfa97144daab5c3057cfe34586a",
       "value": "638b6c1dca534d8c0f892dd8"
      }
     },
     "04c0f78461b64f8bb4f4b1ed7ca15195": {
      "model_module": "@jupyter-widgets/base",
      "model_module_version": "1.2.0",
      "model_name": "LayoutModel",
      "state": {}
     },
     "054588d8690c4826b6616a7b6242ce24": {
      "model_module": "@jupyter-widgets/base",
      "model_module_version": "1.2.0",
      "model_name": "LayoutModel",
      "state": {
       "overflow_x": "scroll"
      }
     },
     "0b341a80d59e40699d933c0675d4909c": {
      "model_module": "@jupyter-widgets/base",
      "model_module_version": "1.2.0",
      "model_name": "LayoutModel",
      "state": {
       "margin": "0px 5px 0px 0px",
       "width": "32px"
      }
     },
     "0caf2ce2183d4efa8e3aa4e154a7f3fd": {
      "model_module": "@jupyter-widgets/controls",
      "model_module_version": "1.5.0",
      "model_name": "HTMLModel",
      "state": {
       "layout": "IPY_MODEL_b6059f6e95714e3fa1fc601efd71f864",
       "style": "IPY_MODEL_cf2a9b2e2ae840a6b465eb46674d9b9f",
       "value": "-"
      }
     },
     "0e4cced64e1f40c89d35b9f7665cd3fe": {
      "model_module": "@jupyter-widgets/base",
      "model_module_version": "1.2.0",
      "model_name": "LayoutModel",
      "state": {
       "width": "190px"
      }
     },
     "101c0e4a4a424f75972a810040077281": {
      "model_module": "@jupyter-widgets/controls",
      "model_module_version": "1.5.0",
      "model_name": "HTMLModel",
      "state": {
       "layout": "IPY_MODEL_1f1a7e8d807e43c08382503fea750abd",
       "style": "IPY_MODEL_a116755a230b407cac68eb7c733406f3",
       "value": "<table><style>\ntable {\n    border-collapse: collapse;\n    width: auto;\n}\n\nth, td {\n    text-align: left;\n    padding: 8px;\n}\n\ntr:nth-child(even) {background-color: #f6f6f6;}\n</style><tr><th></th><th>Frequency</th><th>T1</th><th>T2</th><th>RZ</th><th>SX</th><th>X</th><th>Readout error</th></tr><tr><td><font style='font-weight:bold'>Q0</font></td><td>4.92506 GHz</td><td>127.09575 us</td><td>74.1736 us</td><td>0</td><td>0.00027</td><td>0.00027</td><td>0.0117 </td><tr><td><font style='font-weight:bold'>Q1</font></td><td>5.04647 GHz</td><td>167.84299 us</td><td>34.06768 us</td><td>0</td><td>0.00027</td><td>0.00027</td><td>0.0172 </td><tr><td><font style='font-weight:bold'>Q2</font></td><td>4.96202 GHz</td><td>261.57982 us</td><td>40.73557 us</td><td>0</td><td>0.00023</td><td>0.00023</td><td>0.0114 </td><tr><td><font style='font-weight:bold'>Q3</font></td><td>5.10826 GHz</td><td>77.42882 us</td><td>35.99218 us</td><td>0</td><td>0.00036</td><td>0.00036</td><td>0.0233 </td><tr><td><font style='font-weight:bold'>Q4</font></td><td>5.01114 GHz</td><td>127.84818 us</td><td>100.67849 us</td><td>0</td><td>0.00028</td><td>0.00028</td><td>0.0796 </td><tr><td><font style='font-weight:bold'>Q5</font></td><td>5.17335 GHz</td><td>84.09128 us</td><td>27.01361 us</td><td>0</td><td>0.00036</td><td>0.00036</td><td>0.017 </td><tr><td><font style='font-weight:bold'>Q6</font></td><td>5.31937 GHz</td><td>162.90632 us</td><td>204.94214 us</td><td>0</td><td>0.00027</td><td>0.00027</td><td>0.1403 </td></table>"
      }
     },
     "1890f616b24a46709f69e4fe1e2d8ae5": {
      "model_module": "@jupyter-widgets/controls",
      "model_module_version": "1.5.0",
      "model_name": "DescriptionStyleModel",
      "state": {
       "description_width": ""
      }
     },
     "1cdc802c89a74e7a95ffe9282e94fc00": {
      "model_module": "@jupyter-widgets/base",
      "model_module_version": "1.2.0",
      "model_name": "LayoutModel",
      "state": {
       "width": "190px"
      }
     },
     "1d219e30d6ed43a2a9cb9447c4d554c1": {
      "model_module": "@jupyter-widgets/controls",
      "model_module_version": "1.5.0",
      "model_name": "HTMLModel",
      "state": {
       "layout": "IPY_MODEL_9259f29c931247fd9ccbb35ceb96f399",
       "style": "IPY_MODEL_a82d0ff423804de489ac0e59eb306fa4",
       "value": "-"
      }
     },
     "1f1a7e8d807e43c08382503fea750abd": {
      "model_module": "@jupyter-widgets/base",
      "model_module_version": "1.2.0",
      "model_name": "LayoutModel",
      "state": {}
     },
     "2088b5738e684b00b048dc95044f252c": {
      "model_module": "@jupyter-widgets/controls",
      "model_module_version": "1.5.0",
      "model_name": "VBoxModel",
      "state": {
       "children": [
        "IPY_MODEL_fd3f57e8518246379b7042d53f969a81",
        "IPY_MODEL_f2a881713bc54722a54dc08d0fb1fb48"
       ],
       "layout": "IPY_MODEL_46fc254ca637472ca184295859c1075c"
      }
     },
     "2125ea1dafab48bcad16b3c7ac428ca4": {
      "model_module": "@jupyter-widgets/controls",
      "model_module_version": "1.5.0",
      "model_name": "DescriptionStyleModel",
      "state": {
       "description_width": ""
      }
     },
     "2132aacbcadd494b85e736ad4cb552e3": {
      "model_module": "@jupyter-widgets/controls",
      "model_module_version": "1.5.0",
      "model_name": "HTMLModel",
      "state": {
       "layout": "IPY_MODEL_e534199f2b4a4d628c8f91b10e5a962b",
       "style": "IPY_MODEL_2125ea1dafab48bcad16b3c7ac428ca4",
       "value": "job has successfully run"
      }
     },
     "22fd0b93014d4959bf40690aaf81ae94": {
      "model_module": "@jupyter-widgets/controls",
      "model_module_version": "1.5.0",
      "model_name": "DescriptionStyleModel",
      "state": {
       "description_width": ""
      }
     },
     "2502ba5603dc49c4b50da7e10a90f317": {
      "model_module": "@jupyter-widgets/controls",
      "model_module_version": "1.5.0",
      "model_name": "HTMLModel",
      "state": {
       "layout": "IPY_MODEL_4901dc2307794a22a1bfb47b46d1edd6",
       "style": "IPY_MODEL_d799ddb5a844486e9c93e68c4047d2c9",
       "value": "<div><font style='font-weight:bold'>last_update_date</font>: Sat 03 December 2022 at 15:00 UTC</div>"
      }
     },
     "26ae67cd5d4d40be9609972e251d3fac": {
      "model_module": "@jupyter-widgets/controls",
      "model_module_version": "1.5.0",
      "model_name": "DescriptionStyleModel",
      "state": {
       "description_width": ""
      }
     },
     "2cb77bec181c4de4a13231023b134033": {
      "model_module": "@jupyter-widgets/base",
      "model_module_version": "1.2.0",
      "model_name": "LayoutModel",
      "state": {
       "overflow_x": "scroll"
      }
     },
     "2da2e54768b04b389f02c06c3047b0fe": {
      "model_module": "@jupyter-widgets/base",
      "model_module_version": "1.2.0",
      "model_name": "LayoutModel",
      "state": {
       "grid_template_areas": "\n                                       \". . . . right \"\n                                        ",
       "grid_template_columns": "20% 20% 20% 20% 20%",
       "width": "100%"
      }
     },
     "2e2381d901414e34b6a871fe8d7bea49": {
      "model_module": "@jupyter-widgets/controls",
      "model_module_version": "1.5.0",
      "model_name": "GridBoxModel",
      "state": {
       "children": [
        "IPY_MODEL_791a3931a4ff4f9eb669365d06ac4826",
        "IPY_MODEL_b67d8c04762e4375929613908919b086",
        "IPY_MODEL_384e241bb4df4112b9ba7453fbe9a4d7",
        "IPY_MODEL_b1f3e876473f40039609ad5265d49518"
       ],
       "layout": "IPY_MODEL_3141eaea877f4963a7f6f442d4f2b272"
      }
     },
     "3141eaea877f4963a7f6f442d4f2b272": {
      "model_module": "@jupyter-widgets/base",
      "model_module_version": "1.2.0",
      "model_name": "LayoutModel",
      "state": {
       "grid_gap": "0px 0px",
       "grid_template_areas": "\n                                                   \"top top top\"\n                                                   \"left middle right\"\n                                                   ",
       "grid_template_columns": "33% 33% 33%",
       "grid_template_rows": "auto auto"
      }
     },
     "3320809585074056ba62b92b776d77c5": {
      "model_module": "@jupyter-widgets/controls",
      "model_module_version": "1.5.0",
      "model_name": "DescriptionStyleModel",
      "state": {
       "description_width": ""
      }
     },
     "3395e4923529427b910a511b69ccd221": {
      "model_module": "@jupyter-widgets/base",
      "model_module_version": "1.2.0",
      "model_name": "LayoutModel",
      "state": {
       "margin": "0px 0px 10px 0px"
      }
     },
     "34a289c26c6445308d6c5627bc87a322": {
      "model_module": "@jupyter-widgets/controls",
      "model_module_version": "1.5.0",
      "model_name": "DescriptionStyleModel",
      "state": {
       "description_width": ""
      }
     },
     "37c3ca0a5d9f4e81b7e47ab30e72cd52": {
      "model_module": "@jupyter-widgets/controls",
      "model_module_version": "1.5.0",
      "model_name": "ButtonStyleModel",
      "state": {
       "button_color": "white"
      }
     },
     "384e241bb4df4112b9ba7453fbe9a4d7": {
      "model_module": "@jupyter-widgets/controls",
      "model_module_version": "1.5.0",
      "model_name": "HTMLModel",
      "state": {
       "layout": "IPY_MODEL_7cdcabf910324414a5f09cd0befc8bf8",
       "style": "IPY_MODEL_62246860cc994a4ba55a70739621da17",
       "value": "<table><style>\ntable {\n    border-collapse: collapse;\n    width: auto;\n}\n\nth, td {\n    text-align: left;\n    padding: 8px;\n}\n\ntr:nth-child(even) {background-color: #f6f6f6;};\n</style><tr><th></th><th>Type</th><th>Gate error</th></tr><tr><td><font style='font-weight:bold'>cx1_3</font></td><td>cx</td><td>0.0085</td></tr><tr><td><font style='font-weight:bold'>cx3_1</font></td><td>cx</td><td>0.0085</td></tr><tr><td><font style='font-weight:bold'>cx5_3</font></td><td>cx</td><td>0.00575</td></tr><tr><td><font style='font-weight:bold'>cx3_5</font></td><td>cx</td><td>0.00575</td></tr></table>"
      }
     },
     "3a098ea319a7445a847a951072de37a9": {
      "model_module": "@jupyter-widgets/base",
      "model_module_version": "1.2.0",
      "model_name": "LayoutModel",
      "state": {
       "grid_area": "left",
       "width": "100%"
      }
     },
     "3c87875397114df49c9698635d0ac172": {
      "model_module": "@jupyter-widgets/base",
      "model_module_version": "1.2.0",
      "model_name": "LayoutModel",
      "state": {
       "width": "145px"
      }
     },
     "3e10dc434d1f4f8789aa68b7f00922f2": {
      "model_module": "@jupyter-widgets/controls",
      "model_module_version": "1.5.0",
      "model_name": "HBoxModel",
      "state": {
       "children": [
        "IPY_MODEL_6820767eaecd422db0d601a07f6d3fd4",
        "IPY_MODEL_d573c783195343dab7a603df1f8d8c2d",
        "IPY_MODEL_b38776307af04c8889f6282c1ae16ffb",
        "IPY_MODEL_02aff9d12ec54b5e804c7b03bc26d88f",
        "IPY_MODEL_6d515ed3d80f43728c616769703b4229",
        "IPY_MODEL_042cfe69a1064359ba8d9a4b9bcc85c8"
       ],
       "layout": "IPY_MODEL_5e7cbc10914d4fe5bf34e83a864122b3"
      }
     },
     "3eb3f102d74c46df857d4d4654bb3360": {
      "model_module": "@jupyter-widgets/controls",
      "model_module_version": "1.5.0",
      "model_name": "DescriptionStyleModel",
      "state": {
       "description_width": ""
      }
     },
     "3eeca5d7e501479e9a6e989e5ad44cc8": {
      "model_module": "@jupyter-widgets/base",
      "model_module_version": "1.2.0",
      "model_name": "LayoutModel",
      "state": {
       "width": "95px"
      }
     },
     "3ffd54cb5b5945a4945b194efe5ae148": {
      "model_module": "@jupyter-widgets/controls",
      "model_module_version": "1.5.0",
      "model_name": "DescriptionStyleModel",
      "state": {
       "description_width": ""
      }
     },
     "434a33c1689e4351ad145192506e74e3": {
      "model_module": "@jupyter-widgets/controls",
      "model_module_version": "1.5.0",
      "model_name": "DescriptionStyleModel",
      "state": {
       "description_width": ""
      }
     },
     "43b05f896e994858956c77cf91da1a40": {
      "model_module": "@jupyter-widgets/base",
      "model_module_version": "1.2.0",
      "model_name": "LayoutModel",
      "state": {
       "width": "190px"
      }
     },
     "46fc254ca637472ca184295859c1075c": {
      "model_module": "@jupyter-widgets/base",
      "model_module_version": "1.2.0",
      "model_name": "LayoutModel",
      "state": {
       "border": "4px solid #000000",
       "max_height": "650px",
       "min_height": "650px",
       "overflow_y": "hidden"
      }
     },
     "48cf579244da47ebbff5e7b696949dc8": {
      "model_module": "@jupyter-widgets/base",
      "model_module_version": "1.2.0",
      "model_name": "LayoutModel",
      "state": {
       "margin": "0px 0px 0px 37px",
       "width": "600px"
      }
     },
     "4901dc2307794a22a1bfb47b46d1edd6": {
      "model_module": "@jupyter-widgets/base",
      "model_module_version": "1.2.0",
      "model_name": "LayoutModel",
      "state": {}
     },
     "4c9fe957e5324cd4a95686d9566a4a44": {
      "model_module": "@jupyter-widgets/controls",
      "model_module_version": "1.5.0",
      "model_name": "HTMLMathModel",
      "state": {
       "layout": "IPY_MODEL_3a098ea319a7445a847a951072de37a9",
       "style": "IPY_MODEL_3ffd54cb5b5945a4945b194efe5ae148",
       "value": "<table><style>\ntable {\n    border-collapse: collapse;\n    width: auto;\n}\n\nth, td {\n    text-align: left;\n    padding: 8px;\n}\n\ntr:nth-child(even) {background-color: #f6f6f6;}\n</style><tr><th>Property</th><th>Value</th></tr><tr><td><font style='font-weight:bold'>n_qubits</font></td><td>7</td></tr><tr><td><font style='font-weight:bold'>quantum_volume</font></td><td>32</td></tr><tr><td><font style='font-weight:bold'>operational</font></td><td>True</td></tr><tr><td><font style='font-weight:bold'>status_msg</font></td><td>active</td></tr><tr><td><font style='font-weight:bold'>pending_jobs</font></td><td>62</td></tr><tr><td><font style='font-weight:bold'>backend_version</font></td><td>1.0.14</td></tr><tr><td><font style='font-weight:bold'>basis_gates</font></td><td>['id', 'rz', 'sx', 'x', 'cx', 'reset']</td></tr><tr><td><font style='font-weight:bold'>max_shots</font></td><td>20000</td></tr><tr><td><font style='font-weight:bold'>max_experiments</font></td><td>100</td></tr></table>"
      }
     },
     "4d11e6aefe05468ba968aa4c224cd308": {
      "model_module": "@jupyter-widgets/controls",
      "model_module_version": "1.5.0",
      "model_name": "DescriptionStyleModel",
      "state": {
       "description_width": ""
      }
     },
     "4dacd6fb8e8c4d6a99ccfdefd3966a41": {
      "model_module": "@jupyter-widgets/controls",
      "model_module_version": "1.5.0",
      "model_name": "HBoxModel",
      "state": {
       "children": [
        "IPY_MODEL_023eb70bc6764f09a655f24b33e6ee1b",
        "IPY_MODEL_d1a4ff6dba6e40d1853635db26817e28",
        "IPY_MODEL_d80467ede63a40e1b2e6d9e723be9235",
        "IPY_MODEL_de8af7e9c8cd4250baae347be3596835",
        "IPY_MODEL_aac5b8dc7cfe49d6972efccc43802301",
        "IPY_MODEL_d8eddaa465b347229f5ab7e41bf2f411"
       ],
       "layout": "IPY_MODEL_6f41b099504c4b5cab93829fd55d97b7"
      }
     },
     "510ab3a648904129aaa54f27f35f5fb8": {
      "model_module": "@jupyter-widgets/controls",
      "model_module_version": "1.5.0",
      "model_name": "DescriptionStyleModel",
      "state": {
       "description_width": ""
      }
     },
     "5350ee1b272a40ad90a74a7fb7a6b53f": {
      "model_module": "@jupyter-widgets/base",
      "model_module_version": "1.2.0",
      "model_name": "LayoutModel",
      "state": {
       "grid_area": "left"
      }
     },
     "55c358d80ed14b8b90ea511b48697530": {
      "model_module": "@jupyter-widgets/base",
      "model_module_version": "1.2.0",
      "model_name": "LayoutModel",
      "state": {
       "width": "190px"
      }
     },
     "5acd53cab35243a689df9b90179ca5f3": {
      "model_module": "@jupyter-widgets/controls",
      "model_module_version": "1.5.0",
      "model_name": "HBoxModel",
      "state": {
       "children": [
        "IPY_MODEL_61a41c9ed3244c62b47d726a0f5b6cf3",
        "IPY_MODEL_c84b2077cb53436ab1e4e1910645a138",
        "IPY_MODEL_f1d18e8e84d249fa9f4da0ee029b5f9c",
        "IPY_MODEL_af32eba7dd964d24a69a511cca7803aa",
        "IPY_MODEL_7c4e4868951e4db1923452d9ba4b59b2"
       ],
       "layout": "IPY_MODEL_48cf579244da47ebbff5e7b696949dc8"
      }
     },
     "5b6befff698042c183f15891b89d2c05": {
      "model_module": "@jupyter-widgets/controls",
      "model_module_version": "1.5.0",
      "model_name": "DescriptionStyleModel",
      "state": {
       "description_width": ""
      }
     },
     "5beb42ffbcaf401080e0881994590d47": {
      "model_module": "@jupyter-widgets/controls",
      "model_module_version": "1.5.0",
      "model_name": "ButtonStyleModel",
      "state": {
       "button_color": "white"
      }
     },
     "5e7cbc10914d4fe5bf34e83a864122b3": {
      "model_module": "@jupyter-widgets/base",
      "model_module_version": "1.2.0",
      "model_name": "LayoutModel",
      "state": {
       "max_width": "700px",
       "min_width": "700px"
      }
     },
     "61a41c9ed3244c62b47d726a0f5b6cf3": {
      "model_module": "@jupyter-widgets/controls",
      "model_module_version": "1.5.0",
      "model_name": "HTMLModel",
      "state": {
       "layout": "IPY_MODEL_f310c67fad0c4134b20345005a74eb5e",
       "style": "IPY_MODEL_985359cce6a24d2da37ddf49387e51cd",
       "value": "<h5>Job ID</h5>"
      }
     },
     "62246860cc994a4ba55a70739621da17": {
      "model_module": "@jupyter-widgets/controls",
      "model_module_version": "1.5.0",
      "model_name": "DescriptionStyleModel",
      "state": {
       "description_width": ""
      }
     },
     "62c8d9162bec444b9939a0ce473d11d5": {
      "model_module": "@jupyter-widgets/controls",
      "model_module_version": "1.5.0",
      "model_name": "ButtonStyleModel",
      "state": {
       "button_color": "white"
      }
     },
     "64446846a5d0446a9d9f12f9631f3663": {
      "model_module": "@jupyter-widgets/base",
      "model_module_version": "1.2.0",
      "model_name": "LayoutModel",
      "state": {
       "align_items": "center",
       "display": "flex-inline",
       "grid_area": "right",
       "max_height": "325px",
       "padding": "10px 10px 10px 10px",
       "width": "auto"
      }
     },
     "64fc2ef26e5f4b8889d712a19965535f": {
      "model_module": "@jupyter-widgets/base",
      "model_module_version": "1.2.0",
      "model_name": "LayoutModel",
      "state": {
       "max_height": "620px"
      }
     },
     "669d5deb0b3a4fd58954229b37d60a8c": {
      "model_module": "@jupyter-widgets/controls",
      "model_module_version": "1.5.0",
      "model_name": "DescriptionStyleModel",
      "state": {
       "description_width": ""
      }
     },
     "672c98d9f91940df8af1c9a2e3081e55": {
      "model_module": "@jupyter-widgets/base",
      "model_module_version": "1.2.0",
      "model_name": "LayoutModel",
      "state": {
       "max_width": "700px",
       "min_width": "700px"
      }
     },
     "6820767eaecd422db0d601a07f6d3fd4": {
      "model_module": "@jupyter-widgets/controls",
      "model_module_version": "1.5.0",
      "model_name": "ButtonModel",
      "state": {
       "icon": "close",
       "layout": "IPY_MODEL_db40d9682d10441f9fdbf42798fd441f",
       "style": "IPY_MODEL_62c8d9162bec444b9939a0ce473d11d5"
      }
     },
     "6902e8841d6b4005ba590e8b062128ee": {
      "model_module": "@jupyter-widgets/base",
      "model_module_version": "1.2.0",
      "model_name": "LayoutModel",
      "state": {
       "grid_area": "right",
       "padding": "0px 0px 0px 0px",
       "width": "70px"
      }
     },
     "69ebc2dba38447bc8e1c74c6eccd9174": {
      "model_module": "@jupyter-widgets/base",
      "model_module_version": "1.2.0",
      "model_name": "LayoutModel",
      "state": {
       "overflow_y": "scroll"
      }
     },
     "6d515ed3d80f43728c616769703b4229": {
      "model_module": "@jupyter-widgets/controls",
      "model_module_version": "1.5.0",
      "model_name": "HTMLModel",
      "state": {
       "layout": "IPY_MODEL_e7fedfaed54847ddbcd861bd01569068",
       "style": "IPY_MODEL_1890f616b24a46709f69e4fe1e2d8ae5",
       "value": "-"
      }
     },
     "6f41b099504c4b5cab93829fd55d97b7": {
      "model_module": "@jupyter-widgets/base",
      "model_module_version": "1.2.0",
      "model_name": "LayoutModel",
      "state": {
       "max_width": "700px",
       "min_width": "700px"
      }
     },
     "71c843af9c9842008e9a639203eb6835": {
      "model_module": "@jupyter-widgets/controls",
      "model_module_version": "1.5.0",
      "model_name": "GridBoxModel",
      "state": {
       "children": [
        "IPY_MODEL_b08b5bd20cda417ca4fc03839b38ab02"
       ],
       "layout": "IPY_MODEL_2da2e54768b04b389f02c06c3047b0fe"
      }
     },
     "73d4b8eec252483f8c54a648bfa1ec98": {
      "model_module": "@jupyter-widgets/controls",
      "model_module_version": "1.5.0",
      "model_name": "DescriptionStyleModel",
      "state": {
       "description_width": ""
      }
     },
     "7734cdfa97144daab5c3057cfe34586a": {
      "model_module": "@jupyter-widgets/controls",
      "model_module_version": "1.5.0",
      "model_name": "DescriptionStyleModel",
      "state": {
       "description_width": ""
      }
     },
     "773e36a3b72f4be0b5055f52294305ac": {
      "model_module": "@jupyter-widgets/controls",
      "model_module_version": "1.5.0",
      "model_name": "HTMLModel",
      "state": {
       "layout": "IPY_MODEL_3395e4923529427b910a511b69ccd221",
       "style": "IPY_MODEL_669d5deb0b3a4fd58954229b37d60a8c",
       "value": "<p style='font-family: IBM Plex Sans, Arial, Helvetica, sans-serif; font-size: 20px; font-weight: medium;'>Circuit Properties</p>"
      }
     },
     "78b1b9847d4c4c78941bf307fc359e6b": {
      "model_module": "@jupyter-widgets/controls",
      "model_module_version": "1.5.0",
      "model_name": "DescriptionStyleModel",
      "state": {
       "description_width": ""
      }
     },
     "791a3931a4ff4f9eb669365d06ac4826": {
      "model_module": "@jupyter-widgets/controls",
      "model_module_version": "1.5.0",
      "model_name": "HTMLModel",
      "state": {
       "layout": "IPY_MODEL_ef984677516b47c8b451cb3a08b086df",
       "style": "IPY_MODEL_434a33c1689e4351ad145192506e74e3",
       "value": "<div><font style='font-weight:bold'>last_update_date</font>: 2022-12-03 15:00:43+00:00</div>"
      }
     },
     "79349ff1b4734b3383502c7e247ee1b5": {
      "model_module": "@jupyter-widgets/output",
      "model_module_version": "1.0.0",
      "model_name": "OutputModel",
      "state": {
       "layout": "IPY_MODEL_64446846a5d0446a9d9f12f9631f3663",
       "outputs": [
        {
         "data": {
          "image/png": "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\n",
          "text/plain": "<Figure size 360x360 with 1 Axes>"
         },
         "metadata": {},
         "output_type": "display_data"
        }
       ]
      }
     },
     "7c1c4a479dc141b2aa3cc0e5ecaaf110": {
      "model_module": "@jupyter-widgets/base",
      "model_module_version": "1.2.0",
      "model_name": "LayoutModel",
      "state": {}
     },
     "7c4e4868951e4db1923452d9ba4b59b2": {
      "model_module": "@jupyter-widgets/controls",
      "model_module_version": "1.5.0",
      "model_name": "HTMLModel",
      "state": {
       "layout": "IPY_MODEL_7c1c4a479dc141b2aa3cc0e5ecaaf110",
       "style": "IPY_MODEL_c795cff961d947cca6637e154cacb9fc",
       "value": "<h5>Message</h5>"
      }
     },
     "7cdcabf910324414a5f09cd0befc8bf8": {
      "model_module": "@jupyter-widgets/base",
      "model_module_version": "1.2.0",
      "model_name": "LayoutModel",
      "state": {
       "grid_area": "middle"
      }
     },
     "7d54c81f882d4fef833611acc8ea9a95": {
      "model_module": "@jupyter-widgets/controls",
      "model_module_version": "1.5.0",
      "model_name": "ButtonModel",
      "state": {
       "icon": "close",
       "layout": "IPY_MODEL_9ea698b17674458aa10b4a95b106cfa4",
       "style": "IPY_MODEL_37c3ca0a5d9f4e81b7e47ab30e72cd52"
      }
     },
     "7dfa7fc793594e179ef25b159517a111": {
      "model_module": "@jupyter-widgets/controls",
      "model_module_version": "1.5.0",
      "model_name": "DescriptionStyleModel",
      "state": {
       "description_width": ""
      }
     },
     "8a3403715bfc47bd9f085bc266636611": {
      "model_module": "@jupyter-widgets/base",
      "model_module_version": "1.2.0",
      "model_name": "LayoutModel",
      "state": {
       "width": "145px"
      }
     },
     "8bb262bdb810450b995484714f2a3676": {
      "model_module": "@jupyter-widgets/controls",
      "model_module_version": "1.5.0",
      "model_name": "HTMLModel",
      "state": {
       "layout": "IPY_MODEL_3c87875397114df49c9698635d0ac172",
       "style": "IPY_MODEL_7dfa7fc793594e179ef25b159517a111",
       "value": "ibmq_belem"
      }
     },
     "8c49e29402ed4f8db6dc641b2e8a9999": {
      "model_module": "@jupyter-widgets/base",
      "model_module_version": "1.2.0",
      "model_name": "LayoutModel",
      "state": {
       "grid_area": "bottom",
       "width": "auto"
      }
     },
     "9259f29c931247fd9ccbb35ceb96f399": {
      "model_module": "@jupyter-widgets/base",
      "model_module_version": "1.2.0",
      "model_name": "LayoutModel",
      "state": {
       "width": "70px"
      }
     },
     "9337748329684820bd13c67b11a74964": {
      "model_module": "@jupyter-widgets/controls",
      "model_module_version": "1.5.0",
      "model_name": "DescriptionStyleModel",
      "state": {
       "description_width": ""
      }
     },
     "95c7068ddcad4a95ae46cc8d614a0739": {
      "model_module": "@jupyter-widgets/controls",
      "model_module_version": "1.5.0",
      "model_name": "VBoxModel",
      "state": {
       "children": [
        "IPY_MODEL_2502ba5603dc49c4b50da7e10a90f317",
        "IPY_MODEL_101c0e4a4a424f75972a810040077281"
       ],
       "layout": "IPY_MODEL_04c0f78461b64f8bb4f4b1ed7ca15195"
      }
     },
     "985359cce6a24d2da37ddf49387e51cd": {
      "model_module": "@jupyter-widgets/controls",
      "model_module_version": "1.5.0",
      "model_name": "DescriptionStyleModel",
      "state": {
       "description_width": ""
      }
     },
     "985c3f30d5a34a0e8ec6faa1b504d95f": {
      "model_module": "@jupyter-widgets/base",
      "model_module_version": "1.2.0",
      "model_name": "LayoutModel",
      "state": {
       "width": "70px"
      }
     },
     "9c3710aeb8c54320ae376492f585bc1b": {
      "model_module": "@jupyter-widgets/base",
      "model_module_version": "1.2.0",
      "model_name": "LayoutModel",
      "state": {
       "overflow_x": "scroll"
      }
     },
     "9ca2fff0cf3f4bf787d80803f96a9b8a": {
      "model_module": "@jupyter-widgets/base",
      "model_module_version": "1.2.0",
      "model_name": "LayoutModel",
      "state": {
       "width": "95px"
      }
     },
     "9ea698b17674458aa10b4a95b106cfa4": {
      "model_module": "@jupyter-widgets/base",
      "model_module_version": "1.2.0",
      "model_name": "LayoutModel",
      "state": {
       "margin": "0px 5px 0px 0px",
       "width": "32px"
      }
     },
     "9eda862d8e2243fe99c93053f7d60f7e": {
      "model_module": "@jupyter-widgets/controls",
      "model_module_version": "1.5.0",
      "model_name": "DescriptionStyleModel",
      "state": {
       "description_width": ""
      }
     },
     "a116755a230b407cac68eb7c733406f3": {
      "model_module": "@jupyter-widgets/controls",
      "model_module_version": "1.5.0",
      "model_name": "DescriptionStyleModel",
      "state": {
       "description_width": ""
      }
     },
     "a609467528b4406fb358361e9c1e327f": {
      "model_module": "@jupyter-widgets/base",
      "model_module_version": "1.2.0",
      "model_name": "LayoutModel",
      "state": {
       "width": "95px"
      }
     },
     "a6d9eb3938d6408bbc0c53b4ea29d3f9": {
      "model_module": "@jupyter-widgets/controls",
      "model_module_version": "1.5.0",
      "model_name": "DescriptionStyleModel",
      "state": {
       "description_width": ""
      }
     },
     "a72579da20824853bb2e78117f5a80b2": {
      "model_module": "@jupyter-widgets/controls",
      "model_module_version": "1.5.0",
      "model_name": "DescriptionStyleModel",
      "state": {
       "description_width": ""
      }
     },
     "a82d0ff423804de489ac0e59eb306fa4": {
      "model_module": "@jupyter-widgets/controls",
      "model_module_version": "1.5.0",
      "model_name": "DescriptionStyleModel",
      "state": {
       "description_width": ""
      }
     },
     "a849066605f1435baf2a76c98057e608": {
      "model_module": "@jupyter-widgets/controls",
      "model_module_version": "1.5.0",
      "model_name": "HBoxModel",
      "state": {
       "children": [
        "IPY_MODEL_ca0338fed10f42f6a7c523042d228c07",
        "IPY_MODEL_ff74750c3a834405818a4ad50f64bfb4",
        "IPY_MODEL_f55a702fda604b8daefd9570e52d3c11",
        "IPY_MODEL_ed741d8b61ed4b8581195761363385d4",
        "IPY_MODEL_1d219e30d6ed43a2a9cb9447c4d554c1",
        "IPY_MODEL_e14d833fc5aa4821b4e4fbd397e43e09"
       ],
       "layout": "IPY_MODEL_f91799dcb04e45ed882e06bcbf2cc471"
      }
     },
     "aabab18fc7c5431780e596bb346eb01a": {
      "model_module": "@jupyter-widgets/output",
      "model_module_version": "1.0.0",
      "model_name": "OutputModel",
      "state": {
       "layout": "IPY_MODEL_c7112ff90b3944d29d303e3e8a57a3c6",
       "outputs": [
        {
         "data": {
          "image/png": "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\n",
          "text/plain": "<Figure size 792x648 with 5 Axes>"
         },
         "metadata": {},
         "output_type": "display_data"
        }
       ]
      }
     },
     "aac5b8dc7cfe49d6972efccc43802301": {
      "model_module": "@jupyter-widgets/controls",
      "model_module_version": "1.5.0",
      "model_name": "HTMLModel",
      "state": {
       "layout": "IPY_MODEL_e6f34bf40a3747bd9ed42a8295f0cdd9",
       "style": "IPY_MODEL_9eda862d8e2243fe99c93053f7d60f7e",
       "value": "-"
      }
     },
     "ad2226b94089449ab96823796a58c044": {
      "model_module": "@jupyter-widgets/base",
      "model_module_version": "1.2.0",
      "model_name": "LayoutModel",
      "state": {
       "margin": "0px 5px 0px 0px",
       "width": "32px"
      }
     },
     "af32eba7dd964d24a69a511cca7803aa": {
      "model_module": "@jupyter-widgets/controls",
      "model_module_version": "1.5.0",
      "model_name": "HTMLModel",
      "state": {
       "layout": "IPY_MODEL_985c3f30d5a34a0e8ec6faa1b504d95f",
       "style": "IPY_MODEL_9337748329684820bd13c67b11a74964",
       "value": "<h5>Queue</h5>"
      }
     },
     "b08b5bd20cda417ca4fc03839b38ab02": {
      "model_module": "@jupyter-widgets/controls",
      "model_module_version": "1.5.0",
      "model_name": "ButtonModel",
      "state": {
       "button_style": "primary",
       "description": "Clear",
       "layout": "IPY_MODEL_6902e8841d6b4005ba590e8b062128ee",
       "style": "IPY_MODEL_d0a080c4d20349aca7f331b220a99874"
      }
     },
     "b1f3e876473f40039609ad5265d49518": {
      "model_module": "@jupyter-widgets/controls",
      "model_module_version": "1.5.0",
      "model_name": "HTMLModel",
      "state": {
       "layout": "IPY_MODEL_c3b37ffddab44881b18637d52b79f709",
       "style": "IPY_MODEL_3320809585074056ba62b92b776d77c5",
       "value": "<table><style>\ntable {\n    border-collapse: collapse;\n    width: auto;\n}\n\nth, td {\n    text-align: left;\n    padding: 8px;\n}\n\ntr:nth-child(even) {background-color: #f6f6f6;};\n</style><tr><th></th><th>Type</th><th>Gate error</th></tr><tr><td><font style='font-weight:bold'>cx6_5</font></td><td>cx</td><td>0.00949</td></tr><tr><td><font style='font-weight:bold'>cx5_6</font></td><td>cx</td><td>0.00949</td></tr><tr><td><font style='font-weight:bold'>cx0_1</font></td><td>cx</td><td>0.00779</td></tr><tr><td><font style='font-weight:bold'>cx1_0</font></td><td>cx</td><td>0.00779</td></tr></table>"
      }
     },
     "b38776307af04c8889f6282c1ae16ffb": {
      "model_module": "@jupyter-widgets/controls",
      "model_module_version": "1.5.0",
      "model_name": "HTMLModel",
      "state": {
       "layout": "IPY_MODEL_f4676be8617c40be969e066d44422bad",
       "style": "IPY_MODEL_510ab3a648904129aaa54f27f35f5fb8",
       "value": "ibmq_belem"
      }
     },
     "b48a74cdbdfe45639c55120518d9f300": {
      "model_module": "@jupyter-widgets/controls",
      "model_module_version": "1.5.0",
      "model_name": "TabModel",
      "state": {
       "layout": "IPY_MODEL_64fc2ef26e5f4b8889d712a19965535f"
      }
     },
     "b6059f6e95714e3fa1fc601efd71f864": {
      "model_module": "@jupyter-widgets/base",
      "model_module_version": "1.2.0",
      "model_name": "LayoutModel",
      "state": {
       "width": "70px"
      }
     },
     "b67d8c04762e4375929613908919b086": {
      "model_module": "@jupyter-widgets/controls",
      "model_module_version": "1.5.0",
      "model_name": "HTMLModel",
      "state": {
       "layout": "IPY_MODEL_5350ee1b272a40ad90a74a7fb7a6b53f",
       "style": "IPY_MODEL_22fd0b93014d4959bf40690aaf81ae94",
       "value": "<table><style>\ntable {\n    border-collapse: collapse;\n    width: auto;\n}\n\nth, td {\n    text-align: left;\n    padding: 8px;\n}\n\ntr:nth-child(even) {background-color: #f6f6f6;};\n</style><tr><th></th><th>Type</th><th>Gate error</th></tr><tr><td><font style='font-weight:bold'>cx4_5</font></td><td>cx</td><td>0.00954</td></tr><tr><td><font style='font-weight:bold'>cx5_4</font></td><td>cx</td><td>0.00954</td></tr><tr><td><font style='font-weight:bold'>cx2_1</font></td><td>cx</td><td>0.00734</td></tr><tr><td><font style='font-weight:bold'>cx1_2</font></td><td>cx</td><td>0.00734</td></tr></table>"
      }
     },
     "bbd2d2a91df7441a9d5d5ea9ccc67b5c": {
      "model_module": "@jupyter-widgets/controls",
      "model_module_version": "1.5.0",
      "model_name": "GridBoxModel",
      "state": {
       "children": [
        "IPY_MODEL_4c9fe957e5324cd4a95686d9566a4a44",
        "IPY_MODEL_79349ff1b4734b3383502c7e247ee1b5",
        "IPY_MODEL_cc677f0e412f40228a4200dd79300fba"
       ],
       "layout": "IPY_MODEL_e1089e3cd14f484191109f61c7861fad"
      }
     },
     "bdf52804fbf744d6a6c3baf7a790e083": {
      "model_module": "@jupyter-widgets/controls",
      "model_module_version": "1.5.0",
      "model_name": "ButtonStyleModel",
      "state": {
       "button_color": "white"
      }
     },
     "bfc57a564f62436a99e1719b764cf989": {
      "model_module": "@jupyter-widgets/controls",
      "model_module_version": "1.5.0",
      "model_name": "HTMLModel",
      "state": {
       "layout": "IPY_MODEL_9ca2fff0cf3f4bf787d80803f96a9b8a",
       "style": "IPY_MODEL_f841f42cdfa4423486ea9fd1f2d249e3",
       "value": "<font style='color:#34BC6E'>DONE</font>"
      }
     },
     "c01066a9d8474fd9b12dd477c56cc9bf": {
      "model_module": "@jupyter-widgets/controls",
      "model_module_version": "1.5.0",
      "model_name": "HBoxModel",
      "state": {
       "children": [
        "IPY_MODEL_7d54c81f882d4fef833611acc8ea9a95",
        "IPY_MODEL_04386dbcd44e42ab84cc84ca9351df09",
        "IPY_MODEL_8bb262bdb810450b995484714f2a3676",
        "IPY_MODEL_bfc57a564f62436a99e1719b764cf989",
        "IPY_MODEL_0caf2ce2183d4efa8e3aa4e154a7f3fd",
        "IPY_MODEL_2132aacbcadd494b85e736ad4cb552e3"
       ],
       "layout": "IPY_MODEL_672c98d9f91940df8af1c9a2e3081e55"
      }
     },
     "c3b37ffddab44881b18637d52b79f709": {
      "model_module": "@jupyter-widgets/base",
      "model_module_version": "1.2.0",
      "model_name": "LayoutModel",
      "state": {
       "grid_area": "right"
      }
     },
     "c7112ff90b3944d29d303e3e8a57a3c6": {
      "model_module": "@jupyter-widgets/base",
      "model_module_version": "1.2.0",
      "model_name": "LayoutModel",
      "state": {
       "align_items": "center",
       "display": "flex-inline"
      }
     },
     "c795cff961d947cca6637e154cacb9fc": {
      "model_module": "@jupyter-widgets/controls",
      "model_module_version": "1.5.0",
      "model_name": "DescriptionStyleModel",
      "state": {
       "description_width": ""
      }
     },
     "c84b2077cb53436ab1e4e1910645a138": {
      "model_module": "@jupyter-widgets/controls",
      "model_module_version": "1.5.0",
      "model_name": "HTMLModel",
      "state": {
       "layout": "IPY_MODEL_d0488d02e3b749168f404af43d4f5430",
       "style": "IPY_MODEL_3eb3f102d74c46df857d4d4654bb3360",
       "value": "<h5>Backend</h5>"
      }
     },
     "ca0338fed10f42f6a7c523042d228c07": {
      "model_module": "@jupyter-widgets/controls",
      "model_module_version": "1.5.0",
      "model_name": "ButtonModel",
      "state": {
       "icon": "close",
       "layout": "IPY_MODEL_ad2226b94089449ab96823796a58c044",
       "style": "IPY_MODEL_5beb42ffbcaf401080e0881994590d47"
      }
     },
     "cc677f0e412f40228a4200dd79300fba": {
      "model_module": "@jupyter-widgets/controls",
      "model_module_version": "1.5.0",
      "model_name": "HTMLMathModel",
      "state": {
       "layout": "IPY_MODEL_8c49e29402ed4f8db6dc641b2e8a9999",
       "style": "IPY_MODEL_e1bbba61251a455489fd3505301b3c19",
       "value": "<table><style>\ntable {\n    border-collapse: collapse;\n    width: auto;\n}\n\nth, td {\n    text-align: left;\n    padding: 8px;\n}\n\ntr:nth-child(even) {background-color: #f6f6f6;}\n</style><tr><th></th><th></th></tr><tr><td>n_uchannels</td><td>12</td></tr><tr><td>sample_name</td><td>family: Falcon, revision: 5.11, segment: H</td></tr><tr><td>timing_constraints</td><td>{'acquire_alignment': 16, 'granularity': 16, 'min_length': 64, 'pulse_alignment': 16}</td></tr><tr><td>meas_levels</td><td>[1, 2]</td></tr><tr><td>local</td><td>False</td></tr><tr><td>open_pulse</td><td>False</td></tr><tr><td>input_allowed</td><td>['job', 'runtime', 'qasm3']</td></tr><tr><td>hamiltonian</td><td>$$\\begin{align} \\mathcal{H}/\\hbar = & \\sum_{i=0}^{6}\\left(\\frac{\\omega_{q,i}}{2}(\\mathbb{I}-\\sigma_i^{z})+\\frac{\\Delta_{i}}{2}(O_i^2-O_i)+\\Omega_{d,i}D_i(t)\\sigma_i^{X}\\right) \\\\ & + J_{0,1}(\\sigma_{0}^{+}\\sigma_{1}^{-}+\\sigma_{0}^{-}\\sigma_{1}^{+}) + J_{1,2}(\\sigma_{1}^{+}\\sigma_{2}^{-}+\\sigma_{1}^{-}\\sigma_{2}^{+}) + J_{4,5}(\\sigma_{4}^{+}\\sigma_{5}^{-}+\\sigma_{4}^{-}\\sigma_{5}^{+}) + J_{5,6}(\\sigma_{5}^{+}\\sigma_{6}^{-}+\\sigma_{5}^{-}\\sigma_{6}^{+}) \\\\ & + J_{1,3}(\\sigma_{1}^{+}\\sigma_{3}^{-}+\\sigma_{1}^{-}\\sigma_{3}^{+}) + J_{3,5}(\\sigma_{3}^{+}\\sigma_{5}^{-}+\\sigma_{3}^{-}\\sigma_{5}^{+}) \\\\ & + \\Omega_{d,0}(U_{0}^{(0,1)}(t))\\sigma_{0}^{X} + \\Omega_{d,1}(U_{1}^{(1,0)}(t)+U_{3}^{(1,3)}(t)+U_{2}^{(1,2)}(t))\\sigma_{1}^{X} \\\\ & + \\Omega_{d,2}(U_{4}^{(2,1)}(t))\\sigma_{2}^{X} + \\Omega_{d,3}(U_{5}^{(3,1)}(t)+U_{6}^{(3,5)}(t))\\sigma_{3}^{X} \\\\ & + \\Omega_{d,4}(U_{7}^{(4,5)}(t))\\sigma_{4}^{X} + \\Omega_{d,5}(U_{8}^{(5,3)}(t)+U_{10}^{(5,6)}(t)+U_{9}^{(5,4)}(t))\\sigma_{5}^{X} \\\\ & + \\Omega_{d,6}(U_{11}^{(6,5)}(t))\\sigma_{6}^{X} \\\\ \\end{align}$$</td></tr><tr><td>dynamic_reprate_enabled</td><td>True</td></tr><tr><td>qubit_channel_mapping</td><td>[['u1', 'm0', 'd0', 'u0'], ['d1', 'u4', 'u5', 'u0', 'u3', 'u1', 'm1', 'u2'], ['d2', 'u2', 'u4', 'm2'], ['u8', 'm3', 'd3', 'u3', 'u5', 'u6'], ['m4', 'd4', 'u7', 'u9'], ['u10', 'm5', 'u8', 'u9', 'u7', 'd5', 'u6', 'u11'], ['d6', 'm6', 'u11', 'u10']]</td></tr><tr><td>conditional</td><td>False</td></tr><tr><td>multi_meas_enabled</td><td>True</td></tr><tr><td>coupling_map</td><td>[[0, 1], [1, 0], [1, 2], [1, 3], [2, 1], [3, 1], [3, 5], [4, 5], [5, 3], [5, 4], [5, 6], [6, 5]]</td></tr><tr><td>allow_q_object</td><td>True</td></tr><tr><td>dt</td><td>0.2222222222222222</td></tr><tr><td>dtm</td><td>0.2222222222222222</td></tr><tr><td>discriminators</td><td>['hw_qmfk', 'quadratic_discriminator', 'linear_discriminator']</td></tr><tr><td>pulse_num_channels</td><td>9</td></tr><tr><td>conditional_latency</td><td>[]</td></tr><tr><td>credits_required</td><td>True</td></tr><tr><td>memory</td><td>True</td></tr><tr><td>default_rep_delay</td><td>250.0</td></tr><tr><td>url</td><td>None</td></tr><tr><td>qubit_lo_range</td><td>[[4.425059742608788, 5.425059742608788], [4.546469917178772, 5.546469917178772], [4.46202341012063, 5.46202341012063], [4.608257581457167, 5.608257581457167], [4.511141344788085, 5.511141344788085], [4.67335077304664, 5.67335077304664], [4.819372863131506, 5.819372863131506]]</td></tr><tr><td>meas_lo_range</td><td>[[6.730336446000001, 7.730336446000001], [6.604991057, 7.604991057], [6.830633187, 7.830633187], [6.632327716000001, 7.632327716000001], [6.713651857, 7.713651857], [6.812390622000001, 7.812390622000001], [6.7878388140000006, 7.7878388140000006]]</td></tr><tr><td>parallel_compilation</td><td>False</td></tr><tr><td>parametric_pulses</td><td>['gaussian', 'gaussian_square', 'drag', 'constant']</td></tr><tr><td>measure_esp_enabled</td><td>False</td></tr><tr><td>allow_object_storage</td><td>True</td></tr><tr><td>processor_type</td><td>{'family': 'Falcon', 'revision': '5.11', 'segment': 'H'}</td></tr><tr><td>supported_instructions</td><td>['u1', 'shiftf', 'x', 'setf', 'rz', 'if_else', 'delay', 'sx', 'id', 'measure', 'u3', 'reset', 'cx', 'u2', 'play', 'acquire']</td></tr><tr><td>simulator</td><td>False</td></tr><tr><td>supported_features</td><td>['qobj', 'qasm3']</td></tr><tr><td>clops</td><td>2645</td></tr><tr><td>meas_kernels</td><td>['hw_qmfk']</td></tr><tr><td>backend_name</td><td>ibm_oslo</td></tr><tr><td>uchannels_enabled</td><td>True</td></tr><tr><td>rep_times</td><td>[1000.0]</td></tr><tr><td>online_date</td><td>2022-03-25 04:00:00+00:00</td></tr><tr><td>description</td><td>7 qubit device</td></tr><tr><td>n_registers</td><td>1</td></tr><tr><td>pulse_num_qubits</td><td>3</td></tr><tr><td>live_data</td><td>False</td></tr><tr><td>acquisition_latency</td><td>[]</td></tr><tr><td>meas_map</td><td>[[0, 1, 2, 3, 4, 5, 6]]</td></tr><tr><td>u_channel_lo</td><td>[[{'q': 1, 'scale': (1+0j)}], [{'q': 0, 'scale': (1+0j)}], [{'q': 2, 'scale': (1+0j)}], [{'q': 3, 'scale': (1+0j)}], [{'q': 1, 'scale': (1+0j)}], [{'q': 1, 'scale': (1+0j)}], [{'q': 5, 'scale': (1+0j)}], [{'q': 5, 'scale': (1+0j)}], [{'q': 3, 'scale': (1+0j)}], [{'q': 4, 'scale': (1+0j)}], [{'q': 6, 'scale': (1+0j)}], [{'q': 5, 'scale': (1+0j)}]]</td></tr><tr><td>channels</td><td>{'acquire0': {'operates': {'qubits': [0]}, 'purpose': 'acquire', 'type': 'acquire'}, 'acquire1': {'operates': {'qubits': [1]}, 'purpose': 'acquire', 'type': 'acquire'}, 'acquire2': {'operates': {'qubits': [2]}, 'purpose': 'acquire', 'type': 'acquire'}, 'acquire3': {'operates': {'qubits': [3]}, 'purpose': 'acquire', 'type': 'acquire'}, 'acquire4': {'operates': {'qubits': [4]}, 'purpose': 'acquire', 'type': 'acquire'}, 'acquire5': {'operates': {'qubits': [5]}, 'purpose': 'acquire', 'type': 'acquire'}, 'acquire6': {'operates': {'qubits': [6]}, 'purpose': 'acquire', 'type': 'acquire'}, 'd0': {'operates': {'qubits': [0]}, 'purpose': 'drive', 'type': 'drive'}, 'd1': {'operates': {'qubits': [1]}, 'purpose': 'drive', 'type': 'drive'}, 'd2': {'operates': {'qubits': [2]}, 'purpose': 'drive', 'type': 'drive'}, 'd3': {'operates': {'qubits': [3]}, 'purpose': 'drive', 'type': 'drive'}, 'd4': {'operates': {'qubits': [4]}, 'purpose': 'drive', 'type': 'drive'}, 'd5': {'operates': {'qubits': [5]}, 'purpose': 'drive', 'type': 'drive'}, 'd6': {'operates': {'qubits': [6]}, 'purpose': 'drive', 'type': 'drive'}, 'm0': {'operates': {'qubits': [0]}, 'purpose': 'measure', 'type': 'measure'}, 'm1': {'operates': {'qubits': [1]}, 'purpose': 'measure', 'type': 'measure'}, 'm2': {'operates': {'qubits': [2]}, 'purpose': 'measure', 'type': 'measure'}, 'm3': {'operates': {'qubits': [3]}, 'purpose': 'measure', 'type': 'measure'}, 'm4': {'operates': {'qubits': [4]}, 'purpose': 'measure', 'type': 'measure'}, 'm5': {'operates': {'qubits': [5]}, 'purpose': 'measure', 'type': 'measure'}, 'm6': {'operates': {'qubits': [6]}, 'purpose': 'measure', 'type': 'measure'}, 'u0': {'operates': {'qubits': [0, 1]}, 'purpose': 'cross-resonance', 'type': 'control'}, 'u1': {'operates': {'qubits': [1, 0]}, 'purpose': 'cross-resonance', 'type': 'control'}, 'u10': {'operates': {'qubits': [5, 6]}, 'purpose': 'cross-resonance', 'type': 'control'}, 'u11': {'operates': {'qubits': [6, 5]}, 'purpose': 'cross-resonance', 'type': 'control'}, 'u2': {'operates': {'qubits': [1, 2]}, 'purpose': 'cross-resonance', 'type': 'control'}, 'u3': {'operates': {'qubits': [1, 3]}, 'purpose': 'cross-resonance', 'type': 'control'}, 'u4': {'operates': {'qubits': [2, 1]}, 'purpose': 'cross-resonance', 'type': 'control'}, 'u5': {'operates': {'qubits': [3, 1]}, 'purpose': 'cross-resonance', 'type': 'control'}, 'u6': {'operates': {'qubits': [3, 5]}, 'purpose': 'cross-resonance', 'type': 'control'}, 'u7': {'operates': {'qubits': [4, 5]}, 'purpose': 'cross-resonance', 'type': 'control'}, 'u8': {'operates': {'qubits': [5, 3]}, 'purpose': 'cross-resonance', 'type': 'control'}, 'u9': {'operates': {'qubits': [5, 4]}, 'purpose': 'cross-resonance', 'type': 'control'}}</td></tr><tr><td>rep_delay_range</td><td>[0.0, 500.0]</td></tr></table>"
      }
     },
     "cde6338531d84b83a4821e35f404a95c": {
      "model_module": "@jupyter-widgets/controls",
      "model_module_version": "1.5.0",
      "model_name": "DescriptionStyleModel",
      "state": {
       "description_width": ""
      }
     },
     "cf2a9b2e2ae840a6b465eb46674d9b9f": {
      "model_module": "@jupyter-widgets/controls",
      "model_module_version": "1.5.0",
      "model_name": "DescriptionStyleModel",
      "state": {
       "description_width": ""
      }
     },
     "d0488d02e3b749168f404af43d4f5430": {
      "model_module": "@jupyter-widgets/base",
      "model_module_version": "1.2.0",
      "model_name": "LayoutModel",
      "state": {
       "width": "145px"
      }
     },
     "d0a080c4d20349aca7f331b220a99874": {
      "model_module": "@jupyter-widgets/controls",
      "model_module_version": "1.5.0",
      "model_name": "ButtonStyleModel",
      "state": {}
     },
     "d1a4ff6dba6e40d1853635db26817e28": {
      "model_module": "@jupyter-widgets/controls",
      "model_module_version": "1.5.0",
      "model_name": "HTMLModel",
      "state": {
       "layout": "IPY_MODEL_43b05f896e994858956c77cf91da1a40",
       "style": "IPY_MODEL_26ae67cd5d4d40be9609972e251d3fac",
       "value": "638b6bbf72559817a3a88887"
      }
     },
     "d573c783195343dab7a603df1f8d8c2d": {
      "model_module": "@jupyter-widgets/controls",
      "model_module_version": "1.5.0",
      "model_name": "HTMLModel",
      "state": {
       "layout": "IPY_MODEL_55c358d80ed14b8b90ea511b48697530",
       "style": "IPY_MODEL_a6d9eb3938d6408bbc0c53b4ea29d3f9",
       "value": "638b71affa505a29592041bc"
      }
     },
     "d6cd172ae1a24438a237eb2fd0fbf29d": {
      "model_module": "@jupyter-widgets/controls",
      "model_module_version": "1.5.0",
      "model_name": "DescriptionStyleModel",
      "state": {
       "description_width": ""
      }
     },
     "d799ddb5a844486e9c93e68c4047d2c9": {
      "model_module": "@jupyter-widgets/controls",
      "model_module_version": "1.5.0",
      "model_name": "DescriptionStyleModel",
      "state": {
       "description_width": ""
      }
     },
     "d80467ede63a40e1b2e6d9e723be9235": {
      "model_module": "@jupyter-widgets/controls",
      "model_module_version": "1.5.0",
      "model_name": "HTMLModel",
      "state": {
       "layout": "IPY_MODEL_8a3403715bfc47bd9f085bc266636611",
       "style": "IPY_MODEL_5b6befff698042c183f15891b89d2c05",
       "value": "ibmq_lima"
      }
     },
     "d8eddaa465b347229f5ab7e41bf2f411": {
      "model_module": "@jupyter-widgets/controls",
      "model_module_version": "1.5.0",
      "model_name": "HTMLModel",
      "state": {
       "layout": "IPY_MODEL_054588d8690c4826b6616a7b6242ce24",
       "style": "IPY_MODEL_013a73f9bfde4fc8bad6bb8d560951cc",
       "value": "job has successfully run"
      }
     },
     "db40d9682d10441f9fdbf42798fd441f": {
      "model_module": "@jupyter-widgets/base",
      "model_module_version": "1.2.0",
      "model_name": "LayoutModel",
      "state": {
       "margin": "0px 5px 0px 0px",
       "width": "32px"
      }
     },
     "de8af7e9c8cd4250baae347be3596835": {
      "model_module": "@jupyter-widgets/controls",
      "model_module_version": "1.5.0",
      "model_name": "HTMLModel",
      "state": {
       "layout": "IPY_MODEL_f56e05abb2d74633888e4e31a6396682",
       "style": "IPY_MODEL_f96581493e474077a1886c00619bb14c",
       "value": "<font style='color:#34BC6E'>DONE</font>"
      }
     },
     "e1089e3cd14f484191109f61c7861fad": {
      "model_module": "@jupyter-widgets/base",
      "model_module_version": "1.2.0",
      "model_name": "LayoutModel",
      "state": {
       "grid_gap": "0px 0px",
       "grid_template_areas": "\n                               \"left right right right\"\n                               \"bottom bottom bottom bottom\"\n                               ",
       "grid_template_columns": "31% 23% 23% 23%",
       "grid_template_rows": "auto auto"
      }
     },
     "e14d833fc5aa4821b4e4fbd397e43e09": {
      "model_module": "@jupyter-widgets/controls",
      "model_module_version": "1.5.0",
      "model_name": "HTMLModel",
      "state": {
       "layout": "IPY_MODEL_9c3710aeb8c54320ae376492f585bc1b",
       "style": "IPY_MODEL_73d4b8eec252483f8c54a648bfa1ec98",
       "value": "job has successfully run"
      }
     },
     "e1bbba61251a455489fd3505301b3c19": {
      "model_module": "@jupyter-widgets/controls",
      "model_module_version": "1.5.0",
      "model_name": "DescriptionStyleModel",
      "state": {
       "description_width": ""
      }
     },
     "e534199f2b4a4d628c8f91b10e5a962b": {
      "model_module": "@jupyter-widgets/base",
      "model_module_version": "1.2.0",
      "model_name": "LayoutModel",
      "state": {
       "overflow_x": "scroll"
      }
     },
     "e6f34bf40a3747bd9ed42a8295f0cdd9": {
      "model_module": "@jupyter-widgets/base",
      "model_module_version": "1.2.0",
      "model_name": "LayoutModel",
      "state": {
       "width": "70px"
      }
     },
     "e7fedfaed54847ddbcd861bd01569068": {
      "model_module": "@jupyter-widgets/base",
      "model_module_version": "1.2.0",
      "model_name": "LayoutModel",
      "state": {
       "width": "70px"
      }
     },
     "e93bfb44c3ac4b9599d5ed224e69b8a7": {
      "model_module": "@jupyter-widgets/base",
      "model_module_version": "1.2.0",
      "model_name": "LayoutModel",
      "state": {
       "margin": "0px 0px 0px 0px"
      }
     },
     "ebe0138cee344b4ea23a2da4610311a9": {
      "model_module": "@jupyter-widgets/controls",
      "model_module_version": "1.5.0",
      "model_name": "DescriptionStyleModel",
      "state": {
       "description_width": ""
      }
     },
     "ed741d8b61ed4b8581195761363385d4": {
      "model_module": "@jupyter-widgets/controls",
      "model_module_version": "1.5.0",
      "model_name": "HTMLModel",
      "state": {
       "layout": "IPY_MODEL_3eeca5d7e501479e9a6e989e5ad44cc8",
       "style": "IPY_MODEL_cde6338531d84b83a4821e35f404a95c",
       "value": "<font style='color:#34BC6E'>DONE</font>"
      }
     },
     "ee5dade0e57c424783c3c0be75d62269": {
      "model_module": "@jupyter-widgets/base",
      "model_module_version": "1.2.0",
      "model_name": "LayoutModel",
      "state": {
       "width": "145px"
      }
     },
     "ef984677516b47c8b451cb3a08b086df": {
      "model_module": "@jupyter-widgets/base",
      "model_module_version": "1.2.0",
      "model_name": "LayoutModel",
      "state": {
       "grid_area": "top"
      }
     },
     "f1d18e8e84d249fa9f4da0ee029b5f9c": {
      "model_module": "@jupyter-widgets/controls",
      "model_module_version": "1.5.0",
      "model_name": "HTMLModel",
      "state": {
       "layout": "IPY_MODEL_a609467528b4406fb358361e9c1e327f",
       "style": "IPY_MODEL_78b1b9847d4c4c78941bf307fc359e6b",
       "value": "<h5>Status</h5>"
      }
     },
     "f2a881713bc54722a54dc08d0fb1fb48": {
      "model_module": "@jupyter-widgets/controls",
      "model_module_version": "1.5.0",
      "model_name": "TabModel",
      "state": {
       "_titles": {
        "0": "Configuration",
        "1": "Qubit Properties",
        "2": "Multi-Qubit Gates",
        "3": "Error Map",
        "4": "Job History"
       },
       "children": [
        "IPY_MODEL_bbd2d2a91df7441a9d5d5ea9ccc67b5c",
        "IPY_MODEL_95c7068ddcad4a95ae46cc8d614a0739",
        "IPY_MODEL_2e2381d901414e34b6a871fe8d7bea49",
        "IPY_MODEL_aabab18fc7c5431780e596bb346eb01a",
        "IPY_MODEL_b48a74cdbdfe45639c55120518d9f300"
       ],
       "layout": "IPY_MODEL_69ebc2dba38447bc8e1c74c6eccd9174",
       "selected_index": 1
      }
     },
     "f310c67fad0c4134b20345005a74eb5e": {
      "model_module": "@jupyter-widgets/base",
      "model_module_version": "1.2.0",
      "model_name": "LayoutModel",
      "state": {
       "width": "190px"
      }
     },
     "f4676be8617c40be969e066d44422bad": {
      "model_module": "@jupyter-widgets/base",
      "model_module_version": "1.2.0",
      "model_name": "LayoutModel",
      "state": {
       "width": "145px"
      }
     },
     "f5597ad2fff049099eaf7ab3d03725ea": {
      "model_module": "@jupyter-widgets/base",
      "model_module_version": "1.2.0",
      "model_name": "LayoutModel",
      "state": {
       "width": "95px"
      }
     },
     "f55a702fda604b8daefd9570e52d3c11": {
      "model_module": "@jupyter-widgets/controls",
      "model_module_version": "1.5.0",
      "model_name": "HTMLModel",
      "state": {
       "layout": "IPY_MODEL_ee5dade0e57c424783c3c0be75d62269",
       "style": "IPY_MODEL_4d11e6aefe05468ba968aa4c224cd308",
       "value": "ibmq_qasm_simulator"
      }
     },
     "f56e05abb2d74633888e4e31a6396682": {
      "model_module": "@jupyter-widgets/base",
      "model_module_version": "1.2.0",
      "model_name": "LayoutModel",
      "state": {
       "width": "95px"
      }
     },
     "f841f42cdfa4423486ea9fd1f2d249e3": {
      "model_module": "@jupyter-widgets/controls",
      "model_module_version": "1.5.0",
      "model_name": "DescriptionStyleModel",
      "state": {
       "description_width": ""
      }
     },
     "f91799dcb04e45ed882e06bcbf2cc471": {
      "model_module": "@jupyter-widgets/base",
      "model_module_version": "1.2.0",
      "model_name": "LayoutModel",
      "state": {
       "max_width": "700px",
       "min_width": "700px"
      }
     },
     "f96581493e474077a1886c00619bb14c": {
      "model_module": "@jupyter-widgets/controls",
      "model_module_version": "1.5.0",
      "model_name": "DescriptionStyleModel",
      "state": {
       "description_width": ""
      }
     },
     "fd3f57e8518246379b7042d53f969a81": {
      "model_module": "@jupyter-widgets/controls",
      "model_module_version": "1.5.0",
      "model_name": "HTMLModel",
      "state": {
       "layout": "IPY_MODEL_e93bfb44c3ac4b9599d5ed224e69b8a7",
       "style": "IPY_MODEL_ebe0138cee344b4ea23a2da4610311a9",
       "value": "<h1 style='color:#ffffff;background-color:#000000;padding-top: 1%;padding-bottom: 1%;padding-left: 1%; margin-top: 0px'>ibm_oslo</h1>"
      }
     },
     "ff74750c3a834405818a4ad50f64bfb4": {
      "model_module": "@jupyter-widgets/controls",
      "model_module_version": "1.5.0",
      "model_name": "HTMLModel",
      "state": {
       "layout": "IPY_MODEL_1cdc802c89a74e7a95ffe9282e94fc00",
       "style": "IPY_MODEL_34a289c26c6445308d6c5627bc87a322",
       "value": "638b6be6725598906da88888"
      }
     }
    },
    "version_major": 2,
    "version_minor": 0
   }
  }
 },
 "nbformat": 4,
 "nbformat_minor": 5
}
