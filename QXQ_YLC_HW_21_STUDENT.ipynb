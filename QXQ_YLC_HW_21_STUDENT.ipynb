{
 "cells": [
  {
   "cell_type": "markdown",
   "metadata": {
    "id": "2b5624a2-65dd-4659-bcd3-d1fbed560d58"
   },
   "source": [
    "# **Homework: Week #21 | Quantum Error Correction**\n",
    "---\n",
    "\n",
    "### **Description**:\n",
    "In this week's homework, you will implement a phase flip error correcting code.\n",
    "\n",
    "\n",
    "---"
   ]
  },
  {
   "cell_type": "markdown",
   "metadata": {
    "id": "eb449362-eeb9-437f-a63c-84935c496bd1"
   },
   "source": [
    "## **Part 0: Importing from Qiskit**\n",
    "---\n",
    "\n",
    "**Run the code below to import everything needed for this lab.**"
   ]
  },
  {
   "cell_type": "code",
   "execution_count": 2,
   "metadata": {
    "id": "a0432746"
   },
   "outputs": [
    {
     "name": "stdout",
     "output_type": "stream",
     "text": [
      "Libraries Imported Successfully!\n"
     ]
    }
   ],
   "source": [
    "#!pip install qiskit\n",
    "\n",
    "from qiskit import QuantumCircuit, Aer, transpile, assemble, execute, Aer, IBMQ\n",
    "from qiskit.quantum_info import Statevector\n",
    "from qiskit.visualization import plot_histogram\n",
    "\n",
    "# Import from Qiskit Aer noise module\n",
    "from qiskit_aer.noise import (NoiseModel, QuantumError, ReadoutError,\n",
    "    pauli_error, depolarizing_error, thermal_relaxation_error)\n",
    "\n",
    "import warnings\n",
    "warnings.filterwarnings('ignore')\n",
    "\n",
    "#provider = IBMQ.load_account()\n",
    "\n",
    "print(\"Libraries Imported Successfully!\")"
   ]
  },
  {
   "cell_type": "markdown",
   "metadata": {
    "id": "TrXZJK6Q6em2"
   },
   "source": [
    "## **Part 1: Phase Flip Code**\n",
    "---\n",
    "\n",
    "In this section, you will implement and explore a 3-qubit phase flip error correcting code. This is very similar to the bit flip code we explored in lab, but dealing with sign flips instead of bit flips.\n",
    "\n",
    "<br>\n",
    "\n",
    "For example, noise could cause $\\frac{1}{\\sqrt 2}(|0\\rangle + |1\\rangle)$ to switch to $\\frac{1}{\\sqrt 2}(|0\\rangle - |1\\rangle)$. In other words, a phase flip error can cause the $|+\\rangle$ state to turn into $|-\\rangle$ and vice-versa."
   ]
  },
  {
   "cell_type": "markdown",
   "metadata": {
    "id": "1d283fd6"
   },
   "source": [
    "### **Step #1: Encoding** \n",
    "\n",
    "Create a 3-qubit phase flip encoded quantum circuit. Specifically,\n",
    "1. Initialize a circuit with 3 qubits and 1 classical bit.\n",
    "\n",
    "2. Entangle the state of $q_0$ with the other qubits.\n",
    "\n",
    "3. Put all qubits in equal superpositions to correct $|+\\rangle$ and $|-\\rangle$ states from switching instead of $|0\\rangle$ and $|1\\rangle$.\n",
    "\n",
    "**NOTE**: The first two steps are identical to what we do for the bit flip code."
   ]
  },
  {
   "cell_type": "markdown",
   "metadata": {
    "id": "H7WwpyNz-Wwu"
   },
   "source": [
    "#### **1. Initialize a circuit with 3 qubits and 1 classical bit.**\n",
    "\n",
    "The first qubit, $q_0$, will be the qubit we are correcting. The second and third qubits, $q_1$ and $q_2$, will be ancillary qubits used for correcting the first qubit."
   ]
  },
  {
   "cell_type": "code",
   "execution_count": 3,
   "metadata": {
    "id": "md6fPExP7TB6"
   },
   "outputs": [],
   "source": [
    "phaseflip_circuit = QuantumCircuit(3,1)"
   ]
  },
  {
   "cell_type": "markdown",
   "metadata": {
    "id": "7bc01bdb"
   },
   "source": [
    "#### **2. Entangle the state of $q_0$ with the other two qubits.**\n",
    "\n",
    "This can be accomplished by applying two CNOT gates controlled by $q_0$ and targeting the other qubits, $q_1$ and $q_2$."
   ]
  },
  {
   "cell_type": "code",
   "execution_count": 4,
   "metadata": {
    "id": "QP7A1xI77XSB"
   },
   "outputs": [
    {
     "data": {
      "text/plain": [
       "<qiskit.circuit.instructionset.InstructionSet at 0x7f02006f0d00>"
      ]
     },
     "execution_count": 4,
     "metadata": {},
     "output_type": "execute_result"
    }
   ],
   "source": [
    "phaseflip_circuit.cx(0,1)\n",
    "phaseflip_circuit.cx(0,2)"
   ]
  },
  {
   "cell_type": "markdown",
   "metadata": {
    "id": "HFbzxh1kXEg-"
   },
   "source": [
    "#### **3. Put all qubits in equal superpositions to correct $|+\\rangle$ and $|-\\rangle$ states from flipping instead of $|0\\rangle$ and $|1\\rangle$.**"
   ]
  },
  {
   "cell_type": "code",
   "execution_count": 5,
   "metadata": {
    "id": "Tu79uKpXXKF5"
   },
   "outputs": [
    {
     "data": {
      "image/png": "[encoded data removed]",
      "text/plain": [
       "<Figure size 327.397x264.88 with 1 Axes>"
      ]
     },
     "execution_count": 5,
     "metadata": {},
     "output_type": "execute_result"
    }
   ],
   "source": [
    "phaseflip_circuit.h(0)\n",
    "phaseflip_circuit.h(1)\n",
    "phaseflip_circuit.h(2)\n",
    "\n",
    "phaseflip_circuit.barrier()\n",
    "phaseflip_circuit.draw()"
   ]
  },
  {
   "cell_type": "markdown",
   "metadata": {
    "id": "f11c3700"
   },
   "source": [
    "### **Step #2: Sending Over Noisy Channel** \n",
    "\n",
    "Simulate a phase flip error on $q_0$. **Hint**: What gate flips a qubit from $|+\\rangle$ to $|-\\rangle$?"
   ]
  },
  {
   "cell_type": "code",
   "execution_count": 6,
   "metadata": {
    "id": "D8Ew2nsl7vtb"
   },
   "outputs": [
    {
     "data": {
      "image/png": "[encoded data removed]",
      "text/plain": [
       "<Figure size 447.797x264.88 with 1 Axes>"
      ]
     },
     "execution_count": 6,
     "metadata": {},
     "output_type": "execute_result"
    }
   ],
   "source": [
    "phaseflip_circuit.z(0)\n",
    "\n",
    "phaseflip_circuit.barrier()\n",
    "phaseflip_circuit.draw()"
   ]
  },
  {
   "cell_type": "markdown",
   "metadata": {
    "id": "24a5f692"
   },
   "source": [
    "### **Step #3: Error Detection**\n",
    "\n",
    "Next, we will detect if there's been an error by checking the *phase* (do the phases agree with each other or are they diffent?) of $q_0$ with the other qubits by *bringing all the qubits out of superposition* (H gates) and then checking the parity of the $q_0$ with the ancilla qubits by applying two CNOTs controlled by $q_0$ and targeting the ancilla qubits.\n",
    "\n",
    "**NOTE**: Only the part dealing with superposition is different from the bit flip code."
   ]
  },
  {
   "cell_type": "code",
   "execution_count": 7,
   "metadata": {
    "id": "G9NY3UPL8BEo"
   },
   "outputs": [
    {
     "data": {
      "image/png": "[encoded data removed]",
      "text/plain": [
       "<Figure size 688.597x264.88 with 1 Axes>"
      ]
     },
     "execution_count": 7,
     "metadata": {},
     "output_type": "execute_result"
    }
   ],
   "source": [
    "phaseflip_circuit.h(0)\n",
    "phaseflip_circuit.h(1)\n",
    "phaseflip_circuit.h(2)\n",
    "\n",
    "phaseflip_circuit.cx(0,1)\n",
    "phaseflip_circuit.cx(0,2)\n",
    "\n",
    "phaseflip_circuit.barrier()\n",
    "phaseflip_circuit.draw()"
   ]
  },
  {
   "cell_type": "markdown",
   "metadata": {
    "id": "662390a3"
   },
   "source": [
    "### **Step #4: Error Correction** \n",
    "\n",
    "Apply the Toffoli gate controlled by the ancillary qubits and targeting $q_0$."
   ]
  },
  {
   "cell_type": "code",
   "execution_count": 8,
   "metadata": {
    "id": "BoMIpnU5BTQh"
   },
   "outputs": [
    {
     "data": {
      "image/png": "[encoded data removed]",
      "text/plain": [
       "<Figure size 808.997x264.88 with 1 Axes>"
      ]
     },
     "execution_count": 8,
     "metadata": {},
     "output_type": "execute_result"
    }
   ],
   "source": [
    "phaseflip_circuit.ccx(2,1,0)\n",
    "\n",
    "phaseflip_circuit.barrier()\n",
    "phaseflip_circuit.draw()"
   ]
  },
  {
   "cell_type": "markdown",
   "metadata": {
    "id": "1fe6fac3"
   },
   "source": [
    "### **Step #5: Decoding**\n",
    "\n",
    "The logical state has been stored in $q_0$, so we will measure this to decode the final logical state.\n",
    "\n",
    "**Run the code below to simulate measuring the first qubit at the end of this circuit.**"
   ]
  },
  {
   "cell_type": "code",
   "execution_count": 9,
   "metadata": {
    "id": "zQ_EbpygB7k_"
   },
   "outputs": [
    {
     "data": {
      "image/png": "[encoded data removed]",
      "text/plain": [
       "<Figure size 504x360 with 1 Axes>"
      ]
     },
     "execution_count": 9,
     "metadata": {},
     "output_type": "execute_result"
    }
   ],
   "source": [
    "phaseflip_circuit.measure(0, 0)\n",
    "\n",
    "backend = Aer.get_backend('qasm_simulator')\n",
    "job = execute(phaseflip_circuit, backend = backend, shots = 1024)\n",
    "\n",
    "result = job.result()\n",
    "counts = result.get_counts()\n",
    "\n",
    "plot_histogram(counts)"
   ]
  },
  {
   "cell_type": "markdown",
   "metadata": {
    "id": "3b1655fb"
   },
   "source": [
    "### **Exercise #1** \n",
    "\n",
    "The code below combines your work from above. Modify this code so that the logical qubit is in the $|+\\rangle$ state instead of the $|0\\rangle$ state."
   ]
  },
  {
   "cell_type": "code",
   "execution_count": 10,
   "metadata": {
    "id": "RIDAxiGyDvWn"
   },
   "outputs": [
    {
     "data": {
      "image/png": "[encoded data removed]",
      "text/plain": [
       "<Figure size 929.397x264.88 with 1 Axes>"
      ]
     },
     "execution_count": 10,
     "metadata": {},
     "output_type": "execute_result"
    }
   ],
   "source": [
    "# ENCODING\n",
    "phaseflip_circuit = QuantumCircuit(3, 1)\n",
    "phaseflip_circuit.h(0)\n",
    "phaseflip_circuit.h(1)\n",
    "phaseflip_circuit.h(2)\n",
    "phaseflip_circuit.cx(0, 1) \n",
    "phaseflip_circuit.cx(0, 2)\n",
    "phaseflip_circuit.h(0)\n",
    "phaseflip_circuit.h(1)\n",
    "phaseflip_circuit.h(2)\n",
    "# COMPLETE THIS CODE TO CREATE THE LOGICAL STATE |+>\n",
    "phaseflip_circuit.barrier()\n",
    "\n",
    "\n",
    "# NOISY CHANNEL\n",
    "phaseflip_circuit.z(0)\n",
    "phaseflip_circuit.barrier()\n",
    "\n",
    "\n",
    "# ERROR DETECTION\n",
    "phaseflip_circuit.h(0)\n",
    "phaseflip_circuit.h(1)\n",
    "phaseflip_circuit.h(2)\n",
    "phaseflip_circuit.cx(0, 1) \n",
    "phaseflip_circuit.cx(0, 2)\n",
    "phaseflip_circuit.barrier()\n",
    "\n",
    "\n",
    "# ERROR CORRECTION\n",
    "phaseflip_circuit.ccx(2, 1, 0)\n",
    "phaseflip_circuit.barrier()\n",
    "\n",
    "\n",
    "# DECODING\n",
    "phaseflip_circuit.measure(0, 0)\n",
    "phaseflip_circuit.draw()"
   ]
  },
  {
   "cell_type": "markdown",
   "metadata": {
    "id": "UFC-E5vPD0xe"
   },
   "source": [
    "#### **Run the code below to simulate this circuit.**"
   ]
  },
  {
   "cell_type": "code",
   "execution_count": 11,
   "metadata": {
    "id": "unewATp_Dm-7"
   },
   "outputs": [
    {
     "data": {
      "image/png": "[encoded data removed]",
      "text/plain": [
       "<Figure size 504x360 with 1 Axes>"
      ]
     },
     "execution_count": 11,
     "metadata": {},
     "output_type": "execute_result"
    }
   ],
   "source": [
    "backend = Aer.get_backend('qasm_simulator')\n",
    "job = execute(phaseflip_circuit, backend = backend, shots = 1024)\n",
    "result = job.result()\n",
    "counts = result.get_counts()\n",
    "plot_histogram(counts)"
   ]
  },
  {
   "cell_type": "markdown",
   "metadata": {
    "id": "XAfJFhIjGHCc"
   },
   "source": [
    "### **Exercise #2**\n",
    "\n",
    "Modify the code below with the logical qubit in the $|+\\rangle$ state and with a phase flip error on $q_1$ instead of $q_0$."
   ]
  },
  {
   "cell_type": "code",
   "execution_count": 12,
   "metadata": {
    "id": "xTh4eOouGQ5s"
   },
   "outputs": [
    {
     "data": {
      "image/png": "[encoded data removed]",
      "text/plain": [
       "<Figure size 929.397x264.88 with 1 Axes>"
      ]
     },
     "execution_count": 12,
     "metadata": {},
     "output_type": "execute_result"
    }
   ],
   "source": [
    "# ENCODING\n",
    "phaseflip_circuit = QuantumCircuit(3, 1)\n",
    "phaseflip_circuit.h(0)\n",
    "phaseflip_circuit.h(1)\n",
    "phaseflip_circuit.h(2)\n",
    "phaseflip_circuit.cx(0, 1) \n",
    "phaseflip_circuit.cx(0, 2)\n",
    "phaseflip_circuit.h(0)\n",
    "phaseflip_circuit.h(1)\n",
    "phaseflip_circuit.h(2)\n",
    "# COMPLETE THIS CODE TO CREATE THE LOGICAL STATE |+>\n",
    "phaseflip_circuit.barrier()\n",
    "\n",
    "\n",
    "# NOISY CHANNEL\n",
    "phaseflip_circuit.z(1) # CHANGE SO THERE'S A PHASE FLIP ERROR ON Q1 INSTEAD OF Q0\n",
    "phaseflip_circuit.barrier()\n",
    "\n",
    "\n",
    "# ERROR DETECTION\n",
    "phaseflip_circuit.h(0)\n",
    "phaseflip_circuit.h(1)\n",
    "phaseflip_circuit.h(2)\n",
    "phaseflip_circuit.cx(0, 1) \n",
    "phaseflip_circuit.cx(0, 2)\n",
    "phaseflip_circuit.barrier()\n",
    "\n",
    "\n",
    "# ERROR CORRECTION\n",
    "phaseflip_circuit.ccx(2, 1, 0)\n",
    "phaseflip_circuit.barrier()\n",
    "\n",
    "\n",
    "# DECODING\n",
    "phaseflip_circuit.measure(0, 0)\n",
    "phaseflip_circuit.draw()"
   ]
  },
  {
   "cell_type": "markdown",
   "metadata": {
    "id": "3HwjlqPLGQ5t"
   },
   "source": [
    "#### **Run the code below to simulate this circuit.**"
   ]
  },
  {
   "cell_type": "code",
   "execution_count": 13,
   "metadata": {
    "id": "0tCfKVR2GQ5t"
   },
   "outputs": [
    {
     "data": {
      "image/png": "[encoded data removed]",
      "text/plain": [
       "<Figure size 504x360 with 1 Axes>"
      ]
     },
     "execution_count": 13,
     "metadata": {},
     "output_type": "execute_result"
    }
   ],
   "source": [
    "backend = Aer.get_backend('qasm_simulator')\n",
    "job = execute(phaseflip_circuit, backend = backend, shots = 1024)\n",
    "result = job.result()\n",
    "counts = result.get_counts()\n",
    "plot_histogram(counts)"
   ]
  },
  {
   "cell_type": "markdown",
   "metadata": {
    "id": "Yfi_t_FIESSx"
   },
   "source": [
    "### **Exercise #3**\n",
    "\n",
    "Modify the code below, with the logical qubit in the $|+\\rangle$ state, so that there's a phase flip error on both $q_0$ and $q_1$."
   ]
  },
  {
   "cell_type": "code",
   "execution_count": 14,
   "metadata": {
    "id": "twJwKGuCZoI7"
   },
   "outputs": [
    {
     "data": {
      "image/png": "[encoded data removed]",
      "text/plain": [
       "<Figure size 929.397x264.88 with 1 Axes>"
      ]
     },
     "execution_count": 14,
     "metadata": {},
     "output_type": "execute_result"
    }
   ],
   "source": [
    "# ENCODING\n",
    "phaseflip_circuit = QuantumCircuit(3, 1)\n",
    "phaseflip_circuit.h(0)\n",
    "phaseflip_circuit.h(1)\n",
    "phaseflip_circuit.h(2)\n",
    "phaseflip_circuit.cx(0, 1) \n",
    "phaseflip_circuit.cx(0, 2)\n",
    "phaseflip_circuit.h(0)\n",
    "phaseflip_circuit.h(1)\n",
    "phaseflip_circuit.h(2)\n",
    "# COMPLETE THIS CODE TO CREATE THE LOGICAL STATE |+>\n",
    "phaseflip_circuit.barrier()\n",
    "\n",
    "\n",
    "# NOISY CHANNEL\n",
    "phaseflip_circuit.z(0)\n",
    "phaseflip_circuit.z(1)# CHANGE SO THERE'S A PHASE FLIP ERROR ON BOTH Q0 AND Q1\n",
    "phaseflip_circuit.barrier()\n",
    "\n",
    "\n",
    "# ERROR DETECTION\n",
    "phaseflip_circuit.h(0)\n",
    "phaseflip_circuit.h(1)\n",
    "phaseflip_circuit.h(2)\n",
    "phaseflip_circuit.cx(0, 1) \n",
    "phaseflip_circuit.cx(0, 2)\n",
    "phaseflip_circuit.barrier()\n",
    "\n",
    "\n",
    "# ERROR CORRECTION\n",
    "phaseflip_circuit.ccx(2, 1, 0)\n",
    "phaseflip_circuit.barrier()\n",
    "\n",
    "\n",
    "# DECODING\n",
    "phaseflip_circuit.measure(0, 0)\n",
    "phaseflip_circuit.draw()"
   ]
  },
  {
   "cell_type": "markdown",
   "metadata": {
    "id": "ZWn1z3TrZoI8"
   },
   "source": [
    "#### **Run the code below to simulate this circuit.**"
   ]
  },
  {
   "cell_type": "code",
   "execution_count": 15,
   "metadata": {
    "id": "wHshK_5aZoI8"
   },
   "outputs": [
    {
     "data": {
      "image/png": "[encoded data removed]",
      "text/plain": [
       "<Figure size 504x360 with 1 Axes>"
      ]
     },
     "execution_count": 15,
     "metadata": {},
     "output_type": "execute_result"
    }
   ],
   "source": [
    "backend = Aer.get_backend('qasm_simulator')\n",
    "job = execute(phaseflip_circuit, backend = backend, shots = 1024)\n",
    "result = job.result()\n",
    "counts = result.get_counts()\n",
    "plot_histogram(counts)"
   ]
  },
  {
   "cell_type": "markdown",
   "metadata": {
    "id": "ULaMUOazE9kl"
   },
   "source": [
    "### **Followup Activities**\n",
    "\n",
    "To further hone your understanding of the bit flip code, consider trying the following activities:\n",
    "* Remove parts of the circuit such as the phase checks or error correcting Toffoli to see what happens.\n",
    "* Alter this code to correct for an error on a different qubit.\n",
    "* Expand this 3 qubit error correcting code to a 4+ qubit error correcting code. Can these sustain more errors than the one above? Are there patterns to how many errors an *n* qubit code can handle?\n",
    "* Is there a way to combine the phase and bit flip code so that both types of errors are corrected?\n",
    "* Is there a way in Qiskit to see the resulting logical state without having to measure so that we can see the phase more clearly? "
   ]
  },
  {
   "cell_type": "markdown",
   "metadata": {
    "id": "BF1dNzrLntod"
   },
   "source": [
    "# End of Notebook\n",
    "\n",
    "---\n",
    "\n",
    "© 2023 The Coding School, All rights reserved"
   ]
  }
 ],
 "metadata": {
  "colab": {
   "provenance": []
  },
  "kernelspec": {
   "display_name": "Python 3 (ipykernel)",
   "language": "python",
   "name": "python3"
  },
  "language_info": {
   "codemirror_mode": {
    "name": "ipython",
    "version": 3
   },
   "file_extension": ".py",
   "mimetype": "text/x-python",
   "name": "python",
   "nbconvert_exporter": "python",
   "pygments_lexer": "ipython3",
   "version": "3.10.8"
  },
  "widgets": {
   "application/vnd.jupyter.widget-state+json": {
    "state": {},
    "version_major": 2,
    "version_minor": 0
   }
  }
 },
 "nbformat": 4,
 "nbformat_minor": 4
}
