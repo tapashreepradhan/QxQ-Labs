{
 "cells": [
  {
   "cell_type": "markdown",
   "id": "PwzxHjX_YYNn",
   "metadata": {
    "id": "PwzxHjX_YYNn"
   },
   "source": [
    "# Lab: Week #13 | Semester 1 Review and State Vectors\n",
    "---\n",
    "\n",
    "### **Description**:  \n",
    "In this week's lab, we will warm up with a review of the coding skills we developed last semester and then dive into viewing quantum states as vectors.\n",
    "\n",
    "**Part 0:** Import Libraries<br>\n",
    "**Part 1:** Warm Up <br>\n",
    "**Part 2:** State Vectors<br>\n",
    "\n",
    "<br>\n",
    "\n",
    "### **Cheat Sheets**:  \n",
    "\n",
    "[Updated Qiskit Cheat Sheet](https://docs.google.com/document/d/1GArKBUksi4pMgcEBc4OpvWp2KREPpnQvq0AgyijJnkI/edit?usp=share_link)\n",
    "\n",
    "[Loops and Conditionals Cheat Sheet](https://docs.google.com/document/d/1WKvv22SC7pA0TCqCJnxgZOf2tHjvTotaHYEtOx2FNkI/edit?usp=share_link)\n",
    "\n",
    "\n",
    "---"
   ]
  },
  {
   "cell_type": "markdown",
   "id": "k0Lsovb5VOKP",
   "metadata": {
    "id": "k0Lsovb5VOKP",
    "tags": []
   },
   "source": [
    "## **Part 0: Import Libraries**\n",
    "---\n",
    "\n",
    "Run the cell below before doing anything else. This will import all of the libraries that we will use today."
   ]
  },
  {
   "cell_type": "code",
   "execution_count": 1,
   "id": "RpXkFzsySBur",
   "metadata": {
    "id": "RpXkFzsySBur"
   },
   "outputs": [
    {
     "name": "stdout",
     "output_type": "stream",
     "text": [
      "Requirement already satisfied: qiskit in /opt/conda/lib/python3.8/site-packages (0.39.2)\n",
      "Requirement already satisfied: qiskit-aer==0.11.1 in /opt/conda/lib/python3.8/site-packages (from qiskit) (0.11.1)\n",
      "Requirement already satisfied: qiskit-terra==0.22.2 in /opt/conda/lib/python3.8/site-packages (from qiskit) (0.22.2)\n",
      "Requirement already satisfied: qiskit-ibmq-provider==0.19.2 in /opt/conda/lib/python3.8/site-packages (from qiskit) (0.19.2)\n",
      "Requirement already satisfied: scipy>=1.0 in /opt/conda/lib/python3.8/site-packages (from qiskit-aer==0.11.1->qiskit) (1.8.0)\n",
      "Requirement already satisfied: numpy>=1.16.3 in /opt/conda/lib/python3.8/site-packages (from qiskit-aer==0.11.1->qiskit) (1.22.4)\n",
      "Requirement already satisfied: requests>=2.19 in /opt/conda/lib/python3.8/site-packages (from qiskit-ibmq-provider==0.19.2->qiskit) (2.27.1)\n",
      "Requirement already satisfied: websocket-client>=1.0.1 in /opt/conda/lib/python3.8/site-packages (from qiskit-ibmq-provider==0.19.2->qiskit) (1.3.2)\n",
      "Requirement already satisfied: requests-ntlm>=1.1.0 in /opt/conda/lib/python3.8/site-packages (from qiskit-ibmq-provider==0.19.2->qiskit) (1.1.0)\n",
      "Requirement already satisfied: websockets>=10.0 in /opt/conda/lib/python3.8/site-packages (from qiskit-ibmq-provider==0.19.2->qiskit) (10.4)\n",
      "Requirement already satisfied: urllib3>=1.21.1 in /opt/conda/lib/python3.8/site-packages (from qiskit-ibmq-provider==0.19.2->qiskit) (1.26.9)\n",
      "Requirement already satisfied: python-dateutil>=2.8.0 in /opt/conda/lib/python3.8/site-packages (from qiskit-ibmq-provider==0.19.2->qiskit) (2.8.2)\n",
      "Requirement already satisfied: psutil>=5 in /opt/conda/lib/python3.8/site-packages (from qiskit-terra==0.22.2->qiskit) (5.9.0)\n",
      "Requirement already satisfied: ply>=3.10 in /opt/conda/lib/python3.8/site-packages (from qiskit-terra==0.22.2->qiskit) (3.11)\n",
      "Requirement already satisfied: tweedledum<2.0,>=1.1 in /opt/conda/lib/python3.8/site-packages (from qiskit-terra==0.22.2->qiskit) (1.1.1)\n",
      "Requirement already satisfied: dill>=0.3 in /opt/conda/lib/python3.8/site-packages (from qiskit-terra==0.22.2->qiskit) (0.3.4)\n",
      "Requirement already satisfied: symengine>=0.9 in /opt/conda/lib/python3.8/site-packages (from qiskit-terra==0.22.2->qiskit) (0.9.2)\n",
      "Requirement already satisfied: retworkx>=0.11.0 in /opt/conda/lib/python3.8/site-packages (from qiskit-terra==0.22.2->qiskit) (0.11.0)\n",
      "Requirement already satisfied: stevedore>=3.0.0 in /opt/conda/lib/python3.8/site-packages (from qiskit-terra==0.22.2->qiskit) (3.5.0)\n",
      "Requirement already satisfied: sympy>=1.3 in /opt/conda/lib/python3.8/site-packages (from qiskit-terra==0.22.2->qiskit) (1.10.1)\n",
      "Requirement already satisfied: six>=1.5 in /opt/conda/lib/python3.8/site-packages (from python-dateutil>=2.8.0->qiskit-ibmq-provider==0.19.2->qiskit) (1.16.0)\n",
      "Requirement already satisfied: idna<4,>=2.5 in /opt/conda/lib/python3.8/site-packages (from requests>=2.19->qiskit-ibmq-provider==0.19.2->qiskit) (3.3)\n",
      "Requirement already satisfied: charset-normalizer~=2.0.0 in /opt/conda/lib/python3.8/site-packages (from requests>=2.19->qiskit-ibmq-provider==0.19.2->qiskit) (2.0.12)\n",
      "Requirement already satisfied: certifi>=2017.4.17 in /opt/conda/lib/python3.8/site-packages (from requests>=2.19->qiskit-ibmq-provider==0.19.2->qiskit) (2021.10.8)\n",
      "Requirement already satisfied: cryptography>=1.3 in /opt/conda/lib/python3.8/site-packages (from requests-ntlm>=1.1.0->qiskit-ibmq-provider==0.19.2->qiskit) (36.0.2)\n",
      "Requirement already satisfied: ntlm-auth>=1.0.2 in /opt/conda/lib/python3.8/site-packages (from requests-ntlm>=1.1.0->qiskit-ibmq-provider==0.19.2->qiskit) (1.5.0)\n",
      "Requirement already satisfied: cffi>=1.12 in /opt/conda/lib/python3.8/site-packages (from cryptography>=1.3->requests-ntlm>=1.1.0->qiskit-ibmq-provider==0.19.2->qiskit) (1.15.0)\n",
      "Requirement already satisfied: pycparser in /opt/conda/lib/python3.8/site-packages (from cffi>=1.12->cryptography>=1.3->requests-ntlm>=1.1.0->qiskit-ibmq-provider==0.19.2->qiskit) (2.21)\n",
      "Requirement already satisfied: pbr!=2.1.0,>=2.0.0 in /opt/conda/lib/python3.8/site-packages (from stevedore>=3.0.0->qiskit-terra==0.22.2->qiskit) (5.8.1)\n",
      "Requirement already satisfied: mpmath>=0.19 in /opt/conda/lib/python3.8/site-packages (from sympy>=1.3->qiskit-terra==0.22.2->qiskit) (1.2.1)\n"
     ]
    }
   ],
   "source": [
    "!pip install qiskit"
   ]
  },
  {
   "cell_type": "code",
   "execution_count": 2,
   "id": "2fdb668d-f835-4c9e-96fb-ba4b68863892",
   "metadata": {
    "id": "2fdb668d-f835-4c9e-96fb-ba4b68863892"
   },
   "outputs": [],
   "source": [
    "import warnings \n",
    "warnings.filterwarnings(\"ignore\")\n",
    "\n",
    "#import numpy as np\n",
    "\n",
    "# Importing standard Qiskit libraries\n",
    "from qiskit import QuantumCircuit, transpile, Aer, IBMQ, execute\n",
    "from qiskit.tools.jupyter import *\n",
    "from qiskit.visualization import *\n",
    "from qiskit.providers.aer import QasmSimulator\n",
    "\n",
    "from qiskit.quantum_info import Statevector\n",
    "\n",
    "# Loading your IBM Quantum account(s)\n",
    "#provider = IBMQ.load_account()"
   ]
  },
  {
   "cell_type": "markdown",
   "id": "UgwO1rhmRxMZ",
   "metadata": {
    "id": "UgwO1rhmRxMZ"
   },
   "source": [
    "## **Part 1: Warm-Up**\n",
    "---"
   ]
  },
  {
   "cell_type": "markdown",
   "id": "Kl5ClR8hSh1q",
   "metadata": {
    "id": "Kl5ClR8hSh1q"
   },
   "source": [
    "### **Exercise #1**\n",
    "\n",
    "**Together**, let's create a 3 qubit/3 classical bit quantum circuit just as we did last semester. Then, we will modify it several times in order to create more streamlined code."
   ]
  },
  {
   "cell_type": "markdown",
   "id": "DjU9H9S9UGeZ",
   "metadata": {
    "id": "DjU9H9S9UGeZ"
   },
   "source": [
    "**1.** Create a 3 qubit/3 classical bit quantum circuit where you apply an X gate to all 3 qubits and then measure them all. Then draw this circuit.\n"
   ]
  },
  {
   "cell_type": "code",
   "execution_count": 3,
   "id": "BMdqIjeOSj7A",
   "metadata": {
    "id": "BMdqIjeOSj7A"
   },
   "outputs": [
    {
     "data": {
      "image/png": "[encoded data removed]",
      "text/plain": [
       "<Figure size 327.397x264.88 with 1 Axes>"
      ]
     },
     "execution_count": 3,
     "metadata": {},
     "output_type": "execute_result"
    }
   ],
   "source": [
    "qc = QuantumCircuit(3,3)\n",
    "\n",
    "qc.x(0)\n",
    "qc.x(1)\n",
    "qc.x(2)\n",
    "\n",
    "qc.measure([0,1,2],[0,1,2])\n",
    "\n",
    "qc.draw()"
   ]
  },
  {
   "cell_type": "markdown",
   "id": "x8mXpA4BUaLO",
   "metadata": {
    "id": "x8mXpA4BUaLO"
   },
   "source": [
    "**2.** Now, copy your solution from above and modify it so that all 3 X gates are applied on one line using lists."
   ]
  },
  {
   "cell_type": "code",
   "execution_count": 4,
   "id": "cHpIHgqyUiaJ",
   "metadata": {
    "id": "cHpIHgqyUiaJ"
   },
   "outputs": [
    {
     "data": {
      "image/png": "[encoded data removed]",
      "text/plain": [
       "<Figure size 327.397x264.88 with 1 Axes>"
      ]
     },
     "execution_count": 4,
     "metadata": {},
     "output_type": "execute_result"
    }
   ],
   "source": [
    "qc = QuantumCircuit(3, 3)\n",
    "\n",
    "qc.x(0)\n",
    "qc.x(1)\n",
    "qc.x(2)\n",
    "\n",
    "qc.measure([0, 1, 2], [0, 1, 2])\n",
    "\n",
    "qc.draw()"
   ]
  },
  {
   "cell_type": "markdown",
   "id": "0luc2pzxUlze",
   "metadata": {
    "id": "0luc2pzxUlze"
   },
   "source": [
    "**3.** Lastly, copy your code from directly above and modify it so that instead of `qc.measure([qubits...], [classical bits...])`, you use the function `qc.measure_all()`."
   ]
  },
  {
   "cell_type": "code",
   "execution_count": null,
   "id": "yBgnIjI_U3PH",
   "metadata": {
    "id": "yBgnIjI_U3PH"
   },
   "outputs": [],
   "source": [
    "qc = QuantumCircuit(3, 3)\n",
    "\n",
    "qc.x([0, 1, 2])\n",
    "\n",
    "qc.measure# COMPLETE THIS LINE\n",
    "\n",
    "qc.draw()"
   ]
  },
  {
   "cell_type": "markdown",
   "id": "GsOaF19PWMuf",
   "metadata": {
    "id": "GsOaF19PWMuf"
   },
   "source": [
    "**4.** Notice that `qc.measure_all()` creates its own classical bits to store the measurement results in. So as a last step, let's copy the code over and change it so it is just a 3 qubit/0 classical bit circuit initially. This way we do not risk wasting any resources or cluttering up the circuit drawings."
   ]
  },
  {
   "cell_type": "code",
   "execution_count": null,
   "id": "OvdWsaC8Wikk",
   "metadata": {
    "id": "OvdWsaC8Wikk"
   },
   "outputs": [],
   "source": [
    "qc = # COMPLETE THIS LINE\n",
    "\n",
    "qc.x([0, 1, 2])\n",
    "\n",
    "qc.measure_all()\n",
    "\n",
    "qc.draw()"
   ]
  },
  {
   "cell_type": "markdown",
   "id": "XK4RjtAcS7Cv",
   "metadata": {
    "id": "XK4RjtAcS7Cv"
   },
   "source": [
    "### **Exercise #2**\n",
    "\n",
    "**Independently**, create a 10 qubit/0 classical bit circuit in which all qubits are put into the $| + \\rangle$ state and then measured."
   ]
  },
  {
   "cell_type": "code",
   "execution_count": null,
   "id": "x20eHIFyS9CC",
   "metadata": {
    "id": "x20eHIFyS9CC"
   },
   "outputs": [],
   "source": []
  },
  {
   "cell_type": "markdown",
   "id": "_Tu6UvxVTJrp",
   "metadata": {
    "id": "_Tu6UvxVTJrp"
   },
   "source": [
    "### **Exercise #3**\n",
    "\n",
    "**Independently**, create a 5 qubit/0 classical bit circuit in which all qubits are put into the $|- \\rangle$ state and then measured."
   ]
  },
  {
   "cell_type": "code",
   "execution_count": null,
   "id": "uylOAT8aTI33",
   "metadata": {
    "id": "uylOAT8aTI33"
   },
   "outputs": [],
   "source": []
  },
  {
   "cell_type": "markdown",
   "id": "Lp34Z-CsZato",
   "metadata": {
    "id": "Lp34Z-CsZato"
   },
   "source": [
    "**Run this code to simulate your circuit.**"
   ]
  },
  {
   "cell_type": "code",
   "execution_count": null,
   "id": "7t7Xpi5iZatp",
   "metadata": {
    "id": "7t7Xpi5iZatp"
   },
   "outputs": [],
   "source": [
    "backend = Aer.get_backend('qasm_simulator')\n",
    "job = execute(qc, backend = backend, shots = 1024)\n",
    "\n",
    "results = job.result()\n",
    "plot_histogram(results.get_counts(qc))"
   ]
  },
  {
   "cell_type": "markdown",
   "id": "NFYGjHDnTiDy",
   "metadata": {
    "id": "NFYGjHDnTiDy"
   },
   "source": [
    "### **Exercise 4**\n",
    "**Independently**, create a 5 qubit/0 classical bit circuit in which qubits 0 - 2 are put in the $| + \\rangle$ state and qubits 3 - 4 are put into the $| - \\rangle$ state and then measured. Run the provided code below to simulate the circuit and verify that you have coded this correctly.\n",
    "\n",
    "\n",
    "**NOTE: This circuit should produce equal likelihoods of all possible states just like the previous exercise.**"
   ]
  },
  {
   "cell_type": "code",
   "execution_count": null,
   "id": "f9mR3mPlTj9z",
   "metadata": {
    "id": "f9mR3mPlTj9z"
   },
   "outputs": [],
   "source": []
  },
  {
   "cell_type": "markdown",
   "id": "5HxJ7cKwYHCb",
   "metadata": {
    "id": "5HxJ7cKwYHCb"
   },
   "source": [
    "**Run this code to simulate your circuit.**"
   ]
  },
  {
   "cell_type": "code",
   "execution_count": null,
   "id": "G-f1avhHYHCb",
   "metadata": {
    "id": "G-f1avhHYHCb"
   },
   "outputs": [],
   "source": [
    "backend = Aer.get_backend('qasm_simulator')\n",
    "job = execute(qc, backend = backend, shots = 1024)\n",
    "\n",
    "results = job.result()\n",
    "plot_histogram(results.get_counts(qc))"
   ]
  },
  {
   "cell_type": "markdown",
   "id": "1FqOfT9WT2EO",
   "metadata": {
    "id": "1FqOfT9WT2EO"
   },
   "source": [
    "### **Exercise 5**\n",
    "\n",
    "**Independently**, create a 10 qubit/0 classical bit circuit in which all 10 qubits are entangled so that they always agree with each other and then measure. Run the provided code below to simulate this circuit and verify that you have coded this correctly.\n",
    "\n",
    "In other words, the circuit should produce an equal superposition of the states $| 0000000000 \\rangle$ and $| 1111111111 \\rangle$.\n",
    "\n",
    "<br>\n",
    "\n",
    "**NOTE: There are multiple acceptable solutions to this problem. All of them will fundamentally need to somehow create a state where you have multiple states at the same time and the state of each qubit is deeply related to or *controlled* by the state of another qubit.**"
   ]
  },
  {
   "cell_type": "code",
   "execution_count": null,
   "id": "nWa0EDDAT75t",
   "metadata": {
    "id": "nWa0EDDAT75t"
   },
   "outputs": [],
   "source": []
  },
  {
   "cell_type": "markdown",
   "id": "5Z2HohQZYCJY",
   "metadata": {
    "id": "5Z2HohQZYCJY"
   },
   "source": [
    "**Run this code to simulate your circuit.**"
   ]
  },
  {
   "cell_type": "code",
   "execution_count": null,
   "id": "ayqWjWeZTS0T",
   "metadata": {
    "id": "ayqWjWeZTS0T"
   },
   "outputs": [],
   "source": [
    "backend = Aer.get_backend('qasm_simulator')\n",
    "job = execute(qc, backend = backend, shots = 1024)\n",
    "\n",
    "results = job.result()\n",
    "plot_histogram(results.get_counts(qc))"
   ]
  },
  {
   "cell_type": "markdown",
   "id": "eUQEt5kJSNd-",
   "metadata": {
    "id": "eUQEt5kJSNd-"
   },
   "source": [
    "## **Part 2: State Vectors**\n",
    "---\n",
    "\n",
    "**NOTE: From now on, you do not need to add classical bits to any of your quantum circuits unless otherwise specified.**"
   ]
  },
  {
   "cell_type": "markdown",
   "id": "iSvIerAHSQuM",
   "metadata": {
    "id": "iSvIerAHSQuM"
   },
   "source": [
    "### **Exercise 1**\n",
    "\n",
    "**Together**, let's create a 1 qubit circuit where we get the state vector of the qubit right after initializing the circuit. Then, we will explore how we can examine and use this state vector."
   ]
  },
  {
   "cell_type": "markdown",
   "id": "xdm8orXLcHae",
   "metadata": {
    "id": "xdm8orXLcHae"
   },
   "source": [
    "**1.** Complete the code below to create a 1 qubit circuit and store the state vector of the qubit in the variable `state0`."
   ]
  },
  {
   "cell_type": "code",
   "execution_count": null,
   "id": "b6EROSF6SQI-",
   "metadata": {
    "id": "b6EROSF6SQI-"
   },
   "outputs": [],
   "source": [
    "qc = QuantumCircuit(1)\n",
    "\n",
    "state0 = Statevector.from_instruction(qc)"
   ]
  },
  {
   "cell_type": "markdown",
   "id": "wTEXTDlieE1D",
   "metadata": {
    "id": "wTEXTDlieE1D"
   },
   "source": [
    "**2.** Run the code below to see the vector representation of this state. "
   ]
  },
  {
   "cell_type": "code",
   "execution_count": null,
   "id": "1RAnMifietoZ",
   "metadata": {
    "id": "1RAnMifietoZ"
   },
   "outputs": [],
   "source": [
    "state0.draw('text')"
   ]
  },
  {
   "cell_type": "markdown",
   "id": "iTT2l2Gtcmem",
   "metadata": {
    "id": "iTT2l2Gtcmem"
   },
   "source": [
    "**3.** Run the code below to get a highly formatted ket representation of this state. \n",
    "\n",
    "<br>\n",
    "\n",
    "**NOTE: This uses LaTeX to create this formatting, which is an extremely popular *markup language* in STEM and other fields. Many papers and other documents are written using LaTeX. Another example of a markup language you may have heard of is HTML, which is primarily used for formatting web pages.**"
   ]
  },
  {
   "cell_type": "code",
   "execution_count": null,
   "id": "c7K2e3ASbWVQ",
   "metadata": {
    "id": "c7K2e3ASbWVQ"
   },
   "outputs": [],
   "source": [
    "state0.draw('latex')"
   ]
  },
  {
   "cell_type": "markdown",
   "id": "KZTzqpPzdckY",
   "metadata": {
    "id": "KZTzqpPzdckY"
   },
   "source": [
    "**4.** Modify the code below to see the Bloch sphere representation of this state."
   ]
  },
  {
   "cell_type": "code",
   "execution_count": null,
   "id": "g68zX4NBbXPZ",
   "metadata": {
    "id": "g68zX4NBbXPZ"
   },
   "outputs": [],
   "source": [
    "state0.draw('bloch')"
   ]
  },
  {
   "cell_type": "markdown",
   "id": "APgUPFKSeWMa",
   "metadata": {
    "id": "APgUPFKSeWMa"
   },
   "source": [
    "**5.** Lastly, run the code below to simulate measuring this state."
   ]
  },
  {
   "cell_type": "code",
   "execution_count": null,
   "id": "Yp7X0rBmch0n",
   "metadata": {
    "id": "Yp7X0rBmch0n"
   },
   "outputs": [],
   "source": [
    "state0.measure()"
   ]
  },
  {
   "cell_type": "markdown",
   "id": "e1cYIS0ofGaj",
   "metadata": {
    "id": "e1cYIS0ofGaj"
   },
   "source": [
    "### **Exercise 2**\n",
    "\n",
    "Complete the code below to print out the state vectors throughout the process of preparing."
   ]
  },
  {
   "cell_type": "code",
   "execution_count": null,
   "id": "BCM_I1b0gjNm",
   "metadata": {
    "id": "BCM_I1b0gjNm"
   },
   "outputs": [],
   "source": [
    "qc = QuantumCircuit(1)\n",
    "state0 = Statevector.from_instruction(qc)\n",
    "print(\"Initial State: \" + str(# COMPLETE THIS LINE\n",
    "\n",
    "qc.x(0)\n",
    "state1 = # COMPLETE THIS LINE\n",
    "print(\"State after X gate: \" + str(# COMPLETE THIS LINE\n",
    "\n",
    "qc.# COMPLETE THIS LINE\n",
    "state2 = # COMPLETE THIS LINE\n",
    "print(\"State after H gate: \" + # COMPLETE THIS LINE"
   ]
  },
  {
   "cell_type": "markdown",
   "id": "hQJELyD6aeJ2",
   "metadata": {
    "id": "hQJELyD6aeJ2"
   },
   "source": [
    "\n",
    "---\n",
    "© 2023 The Coding School, All rights reserved"
   ]
  }
 ],
 "metadata": {
  "colab": {
   "provenance": []
  },
  "kernelspec": {
   "display_name": "Python 3 (ipykernel)",
   "language": "python",
   "name": "python3"
  },
  "language_info": {
   "codemirror_mode": {
    "name": "ipython",
    "version": 3
   },
   "file_extension": ".py",
   "mimetype": "text/x-python",
   "name": "python",
   "nbconvert_exporter": "python",
   "pygments_lexer": "ipython3",
   "version": "3.8.13"
  },
  "widgets": {
   "application/vnd.jupyter.widget-state+json": {
    "state": {
     "03f6d4d609344d079278c677635cdbab": {
      "model_module": "@jupyter-widgets/base",
      "model_module_version": "1.2.0",
      "model_name": "LayoutModel",
      "state": {
       "width": "190px"
      }
     },
     "06841aa99e9741d3aba49353fe91f944": {
      "model_module": "@jupyter-widgets/base",
      "model_module_version": "1.2.0",
      "model_name": "LayoutModel",
      "state": {
       "margin": "0px 0px 0px 37px",
       "width": "600px"
      }
     },
     "122f0d88efaa4939be9777836e04bd65": {
      "model_module": "@jupyter-widgets/base",
      "model_module_version": "1.2.0",
      "model_name": "LayoutModel",
      "state": {}
     },
     "1313979b8a0a465089699ef5e08b86bf": {
      "model_module": "@jupyter-widgets/controls",
      "model_module_version": "1.5.0",
      "model_name": "HTMLModel",
      "state": {
       "layout": "IPY_MODEL_122f0d88efaa4939be9777836e04bd65",
       "style": "IPY_MODEL_61f880b713784dd59a324926887a2a41",
       "value": "<h5>Message</h5>"
      }
     },
     "15c8476d2b964bf2811e5517c0019f67": {
      "model_module": "@jupyter-widgets/base",
      "model_module_version": "1.2.0",
      "model_name": "LayoutModel",
      "state": {
       "grid_template_areas": "\n                                       \". . . . right \"\n                                        ",
       "grid_template_columns": "20% 20% 20% 20% 20%",
       "width": "100%"
      }
     },
     "2e7816dac780418b8c4dad37b703a524": {
      "model_module": "@jupyter-widgets/controls",
      "model_module_version": "1.5.0",
      "model_name": "DescriptionStyleModel",
      "state": {
       "description_width": ""
      }
     },
     "2f79387e7c7f45c7833bbfef845ece43": {
      "model_module": "@jupyter-widgets/controls",
      "model_module_version": "1.5.0",
      "model_name": "HTMLModel",
      "state": {
       "layout": "IPY_MODEL_e23f6bf87a7347b385d758d56f5710ca",
       "style": "IPY_MODEL_397862e5fff341a48bced7a4d198ed6a",
       "value": "<h5>Backend</h5>"
      }
     },
     "304070ca876143a09ba64ad04e48fc25": {
      "model_module": "@jupyter-widgets/controls",
      "model_module_version": "1.5.0",
      "model_name": "ButtonStyleModel",
      "state": {}
     },
     "397862e5fff341a48bced7a4d198ed6a": {
      "model_module": "@jupyter-widgets/controls",
      "model_module_version": "1.5.0",
      "model_name": "DescriptionStyleModel",
      "state": {
       "description_width": ""
      }
     },
     "50a2e84c1c2242f4b1270f187ef64a33": {
      "model_module": "@jupyter-widgets/base",
      "model_module_version": "1.2.0",
      "model_name": "LayoutModel",
      "state": {
       "width": "70px"
      }
     },
     "61f880b713784dd59a324926887a2a41": {
      "model_module": "@jupyter-widgets/controls",
      "model_module_version": "1.5.0",
      "model_name": "DescriptionStyleModel",
      "state": {
       "description_width": ""
      }
     },
     "6e281f240ed9454f92ed02850f98e1ec": {
      "model_module": "@jupyter-widgets/controls",
      "model_module_version": "1.5.0",
      "model_name": "HTMLModel",
      "state": {
       "layout": "IPY_MODEL_03f6d4d609344d079278c677635cdbab",
       "style": "IPY_MODEL_87cb342430f241ce8a60bf0b6b7b65ab",
       "value": "<h5>Job ID</h5>"
      }
     },
     "764880da9cba4ce896ccdee88e8b9634": {
      "model_module": "@jupyter-widgets/base",
      "model_module_version": "1.2.0",
      "model_name": "LayoutModel",
      "state": {
       "margin": "0px 0px 10px 0px"
      }
     },
     "76f1ec1cca384bdbbcfd139c49f86154": {
      "model_module": "@jupyter-widgets/controls",
      "model_module_version": "1.5.0",
      "model_name": "HTMLModel",
      "state": {
       "layout": "IPY_MODEL_ec7dfdeee4894cba88146c3b3c363eb8",
       "style": "IPY_MODEL_fed29d85cae14f6e9ec06d57ed04b637",
       "value": "<h5>Status</h5>"
      }
     },
     "7973a0363306440c96601fe414ec5962": {
      "model_module": "@jupyter-widgets/controls",
      "model_module_version": "1.5.0",
      "model_name": "HTMLModel",
      "state": {
       "layout": "IPY_MODEL_764880da9cba4ce896ccdee88e8b9634",
       "style": "IPY_MODEL_2e7816dac780418b8c4dad37b703a524",
       "value": "<p style='font-family: IBM Plex Sans, Arial, Helvetica, sans-serif; font-size: 20px; font-weight: medium;'>Circuit Properties</p>"
      }
     },
     "7b11a50e96444820a410d9ca6afc751a": {
      "model_module": "@jupyter-widgets/base",
      "model_module_version": "1.2.0",
      "model_name": "LayoutModel",
      "state": {
       "grid_area": "right",
       "padding": "0px 0px 0px 0px",
       "width": "70px"
      }
     },
     "87cb342430f241ce8a60bf0b6b7b65ab": {
      "model_module": "@jupyter-widgets/controls",
      "model_module_version": "1.5.0",
      "model_name": "DescriptionStyleModel",
      "state": {
       "description_width": ""
      }
     },
     "8afc1aacf98c4f49964b8d7a27ca1561": {
      "model_module": "@jupyter-widgets/controls",
      "model_module_version": "1.5.0",
      "model_name": "HTMLModel",
      "state": {
       "layout": "IPY_MODEL_50a2e84c1c2242f4b1270f187ef64a33",
       "style": "IPY_MODEL_96c3ad76f36f41b2ade5bc211d12ba88",
       "value": "<h5>Queue</h5>"
      }
     },
     "96c3ad76f36f41b2ade5bc211d12ba88": {
      "model_module": "@jupyter-widgets/controls",
      "model_module_version": "1.5.0",
      "model_name": "DescriptionStyleModel",
      "state": {
       "description_width": ""
      }
     },
     "a2da4caa64594f29b66a322f4bafe59a": {
      "model_module": "@jupyter-widgets/controls",
      "model_module_version": "1.5.0",
      "model_name": "ButtonModel",
      "state": {
       "button_style": "primary",
       "description": "Clear",
       "layout": "IPY_MODEL_7b11a50e96444820a410d9ca6afc751a",
       "style": "IPY_MODEL_304070ca876143a09ba64ad04e48fc25"
      }
     },
     "b48ed15271884abfa71f6bfbe79a8b52": {
      "model_module": "@jupyter-widgets/controls",
      "model_module_version": "1.5.0",
      "model_name": "HBoxModel",
      "state": {
       "children": [
        "IPY_MODEL_6e281f240ed9454f92ed02850f98e1ec",
        "IPY_MODEL_2f79387e7c7f45c7833bbfef845ece43",
        "IPY_MODEL_76f1ec1cca384bdbbcfd139c49f86154",
        "IPY_MODEL_8afc1aacf98c4f49964b8d7a27ca1561",
        "IPY_MODEL_1313979b8a0a465089699ef5e08b86bf"
       ],
       "layout": "IPY_MODEL_06841aa99e9741d3aba49353fe91f944"
      }
     },
     "e23f6bf87a7347b385d758d56f5710ca": {
      "model_module": "@jupyter-widgets/base",
      "model_module_version": "1.2.0",
      "model_name": "LayoutModel",
      "state": {
       "width": "145px"
      }
     },
     "ec05b907ac4b4cd49c1cee7c957a6eff": {
      "model_module": "@jupyter-widgets/controls",
      "model_module_version": "1.5.0",
      "model_name": "GridBoxModel",
      "state": {
       "children": [
        "IPY_MODEL_a2da4caa64594f29b66a322f4bafe59a"
       ],
       "layout": "IPY_MODEL_15c8476d2b964bf2811e5517c0019f67"
      }
     },
     "ec7dfdeee4894cba88146c3b3c363eb8": {
      "model_module": "@jupyter-widgets/base",
      "model_module_version": "1.2.0",
      "model_name": "LayoutModel",
      "state": {
       "width": "95px"
      }
     },
     "fed29d85cae14f6e9ec06d57ed04b637": {
      "model_module": "@jupyter-widgets/controls",
      "model_module_version": "1.5.0",
      "model_name": "DescriptionStyleModel",
      "state": {
       "description_width": ""
      }
     }
    },
    "version_major": 2,
    "version_minor": 0
   }
  }
 },
 "nbformat": 4,
 "nbformat_minor": 5
}
